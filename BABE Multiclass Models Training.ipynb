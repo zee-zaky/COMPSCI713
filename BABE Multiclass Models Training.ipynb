{
 "cells": [
  {
   "cell_type": "markdown",
   "id": "4c0cabbe-073a-4e0d-936f-837c087cae2d",
   "metadata": {},
   "source": [
    "# Multiclass Models Training for BABE Dataset "
   ]
  },
  {
   "cell_type": "markdown",
   "id": "95ef06c6-acf1-4666-829a-55201d873097",
   "metadata": {
    "tags": []
   },
   "source": [
    "## Imports, libraries and rusable functions"
   ]
  },
  {
   "cell_type": "code",
   "execution_count": 1,
   "id": "1889b09e-1102-42c2-a57c-de74617a5665",
   "metadata": {
    "tags": []
   },
   "outputs": [],
   "source": [
    "# General Utilities\n",
    "import os\n",
    "import re\n",
    "import time\n",
    "import ast\n",
    "import warnings\n",
    "import math\n",
    "import copy\n",
    "import json\n",
    "from collections import Counter\n",
    "from tqdm.notebook import tqdm\n",
    "\n",
    "# Data Manipulation\n",
    "import pandas as pd\n",
    "import numpy as np\n",
    "import csv\n",
    "\n",
    "# Visualization\n",
    "import matplotlib.pyplot as plt\n",
    "import seaborn as sns\n",
    "from xgboost import plot_importance\n",
    "\n",
    "# Machine Learning Utilities\n",
    "import xgboost\n",
    "import tensorflow as tf\n",
    "import torch\n",
    "from sklearn.preprocessing import MinMaxScaler\n",
    "from sklearn.model_selection import train_test_split, cross_val_score, cross_validate, KFold\n",
    "from sklearn.metrics import accuracy_score, precision_recall_fscore_support, confusion_matrix, f1_score\n",
    "# import scikitplot as skplt  # Uncomment if scikit-plot is installed and needed\n",
    "from tabulate import tabulate\n",
    "\n",
    "# Transformers and Hugging Face Utilities\n",
    "from transformers import (\n",
    "    AutoTokenizer, AutoModelForSequenceClassification, XLMRobertaForSequenceClassification,\n",
    "    DistilBertConfig, DistilBertModel, DistilBertForSequenceClassification, CamembertForSequenceClassification, RobertaForSequenceClassification,\n",
    "    AdamW, get_linear_schedule_with_warmup, TrainerCallback, EarlyStoppingCallback, Trainer, TrainingArguments\n",
    ")\n",
    "from datasets import load_dataset, DatasetDict, Dataset\n",
    "\n",
    "# Experiment Tracking\n",
    "#import wandb  # Uncomment if using Weights & Biases for experiment tracking\n"
   ]
  },
  {
   "cell_type": "code",
   "execution_count": 2,
   "id": "318f7063-8669-4cef-b4b6-b95081531347",
   "metadata": {
    "tags": []
   },
   "outputs": [
    {
     "name": "stdout",
     "output_type": "stream",
     "text": [
      "GPU: NVIDIA GeForce RTX 4070 Ti SUPER is available.\n",
      "cuda\n"
     ]
    }
   ],
   "source": [
    "if torch.cuda.is_available():\n",
    "    print(f\"GPU: {torch.cuda.get_device_name(0)} is available.\")\n",
    "else:\n",
    "    print(\"No GPU available. Training will run on CPU.\")\n",
    "\n",
    "device = torch.device(\"cuda\" if torch.cuda.is_available() else \"cpu\")\n",
    "print(device)"
   ]
  },
  {
   "cell_type": "code",
   "execution_count": 60,
   "id": "97057b5c-ef8b-4c1a-be78-3620ea9bf6e9",
   "metadata": {
    "tags": []
   },
   "outputs": [],
   "source": [
    "# Reusable Function Definitions\n",
    "\n",
    "def custom_label(row):\n",
    "    \"\"\"\n",
    "    Determines the label for a given row of the dataset based on specific criteria.\n",
    "    \n",
    "    Args:\n",
    "        row (pd.Series): A row from a DataFrame.\n",
    "        \n",
    "    Returns:\n",
    "        str: Custom label string based on the given logic.\n",
    "    \"\"\"\n",
    "    if row['type'] == 'center' or row['label_bias'] == 'Non-biased':\n",
    "        return 'Non-biased'\n",
    "    else:\n",
    "        return f\"{row['type']}-Biased\"\n",
    "\n",
    "def load_and_prepare_binary_calssification_data(file_paths):\n",
    "    \"\"\"\n",
    "    Load data from specified file paths, preprocess, and create train, validation, and test splits.\n",
    "    \n",
    "    Args:\n",
    "        file_paths (list): List of file paths to load and concatenate.\n",
    "        \n",
    "    Returns:\n",
    "        DatasetDict: A dictionary containing training, validation, and test datasets.\n",
    "    \"\"\"\n",
    "    data = pd.concat([pd.read_excel(path) for path in file_paths])    \n",
    "    data = data[['text','label_bias']]\n",
    "    data = data[data['label_bias'] != 'No agreement']\n",
    "    data['label_bias'] = data['label_bias'].map({'Non-biased': 1, 'Biased': 0})\n",
    "    data = data.rename(columns={'label_bias': 'labels'})\n",
    "    \n",
    "    # Split data\n",
    "    train_temp, test = train_test_split(data, test_size=0.10, random_state=42, stratify=data['labels'])\n",
    "    train, val = train_test_split(train_temp, test_size=1/9, random_state=42, stratify=train_temp['labels'])\n",
    "\n",
    "    # Convert to Hugging Face datasets\n",
    "    return DatasetDict({\n",
    "        'train': Dataset.from_pandas(train, preserve_index=False),\n",
    "        'val': Dataset.from_pandas(val, preserve_index=False),\n",
    "        'test': Dataset.from_pandas(test, preserve_index=False)\n",
    "    })    \n",
    "    \n",
    "def load_and_prepare_data(file_paths):\n",
    "    \"\"\"\n",
    "    Load data from specified file paths, preprocess, and create train, validation, and test splits.\n",
    "    \n",
    "    Args:\n",
    "        file_paths (list): List of file paths to load and concatenate.\n",
    "        \n",
    "    Returns:\n",
    "        DatasetDict: A dictionary containing training, validation, and test datasets.\n",
    "    \"\"\"\n",
    "    data = pd.concat([pd.read_excel(path) for path in file_paths])\n",
    "    data['labels'] = data.apply(custom_label, axis=1)\n",
    "    data.dropna(subset=['type'], inplace=True)\n",
    "    data = data[data.label_bias != 'No agreement']\n",
    "    label_mapping = {'Non-biased': 0, 'left-Biased': 1, 'right-Biased': 2}\n",
    "    data['labels'] = data['labels'].replace(label_mapping)\n",
    "    data = data[['text', 'labels']]\n",
    "\n",
    "    # Split data\n",
    "    train_temp, test = train_test_split(data, test_size=0.10, random_state=42, stratify=data['labels'])\n",
    "    train, val = train_test_split(train_temp, test_size=1/9, random_state=42, stratify=train_temp['labels'])\n",
    "\n",
    "    # Convert to Hugging Face datasets\n",
    "    return DatasetDict({\n",
    "        'train': Dataset.from_pandas(train, preserve_index=False),\n",
    "        'val': Dataset.from_pandas(val, preserve_index=False),\n",
    "        'test': Dataset.from_pandas(test, preserve_index=False)\n",
    "    })\n",
    "    \n",
    "def ensemble_score(outputs, true_labels):\n",
    "    \"\"\"\n",
    "    Compute the ensemble score by majority voting from a list of model outputs.\n",
    "    \n",
    "    Args:\n",
    "        outputs (list): List of model outputs containing predictions.\n",
    "        true_labels (array): Actual labels for the evaluation dataset.\n",
    "    \n",
    "    Returns:\n",
    "        tuple: Tuple containing the final predicted labels and the accuracy.\n",
    "    \"\"\"\n",
    "    final_labels = []\n",
    "    # Loop through predictions to compute majority vote\n",
    "    for preds in zip(*[output.predictions for output in outputs]):\n",
    "        votes = [np.argmax(pred) for pred in preds]\n",
    "        final_labels.append(max(set(votes), key=votes.count))\n",
    "    \n",
    "    # Calculate accuracy\n",
    "    acc = accuracy_score(true_labels, final_labels)\n",
    "    # Calculate F1-score with default 'macro' average to consider label imbalance\n",
    "    f1 = f1_score(true_labels, final_labels, average='macro')\n",
    "    \n",
    "    return final_labels, acc, f1\n",
    "\n",
    "def ensemble_score_total_sum(outputs, true_labels, weights=None):\n",
    "    \"\"\"\n",
    "    Compute the ensemble score by summing predictions from a list of model outputs before deciding the final class,\n",
    "    with an option to weight predictions differently.\n",
    "    \n",
    "    Args:\n",
    "        outputs (list): List of model outputs containing predictions.\n",
    "        true_labels (array): Actual labels for the evaluation dataset.\n",
    "        weights (list, optional): List of weights corresponding to each model output. Default is None, which\n",
    "                                  assigns equal weight to each model.\n",
    "    \n",
    "    Returns:\n",
    "        tuple: Tuple containing the final predicted labels and the accuracy.\n",
    "    \"\"\"\n",
    "    final_labels = []\n",
    "\n",
    "    # Set equal weights if none are provided\n",
    "    if weights is None:\n",
    "        weights = [1] * len(outputs)\n",
    "\n",
    "    # Ensure the weights and outputs have the same length\n",
    "    if len(weights) != len(outputs):\n",
    "        raise ValueError(\"The number of weights must match the number of outputs\")\n",
    "\n",
    "    # Sum the predictions weighted and take the argmax\n",
    "    for preds in zip(*[output.predictions for output in outputs]):\n",
    "        # Apply weights to each model's predictions before summing\n",
    "        weighted_preds = np.sum([p*w for p, w in zip(preds, weights)], axis=0)\n",
    "        final_labels.append(np.argmax(weighted_preds))\n",
    "    \n",
    "    # Calculate accuracy\n",
    "    acc = accuracy_score(true_labels, final_labels)\n",
    "    # Calculate F1-score with default 'macro' average to consider label imbalance\n",
    "    f1 = f1_score(true_labels, final_labels, average='macro')\n",
    "    \n",
    "    return final_labels, acc, f1\n",
    "\n",
    "class LoggingCallback(TrainerCallback):\n",
    "    \"\"\"\n",
    "    Custom logging callback for use with Hugging Face's Trainer.\n",
    "    \n",
    "    Args:\n",
    "        log_path (str): Path to save the log file.\n",
    "    \"\"\"\n",
    "    def __init__(self, log_path):\n",
    "        self.log_path = log_path\n",
    "\n",
    "    def on_log(self, args, state, control, logs=None, **kwargs):\n",
    "        # Remove unwanted logs and save relevant logs to a file\n",
    "        _ = logs.pop(\"total_flos\", None)\n",
    "        if state.is_local_process_zero:\n",
    "            with open(self.log_path, \"a\") as f:\n",
    "                f.write(json.dumps(logs) + \"\\n\")\n",
    "\n",
    "def compute_metrics(eval_pred):\n",
    "    \"\"\"\n",
    "    Compute accuracy and other metrics from model predictions.\n",
    "    \n",
    "    Args:\n",
    "        eval_pred (tuple): Tuple containing model logits and ground-truth labels.\n",
    "    \n",
    "    Returns:\n",
    "        dict: Dictionary with accuracy, precision, recall, f1-score, and custom performance metric.\n",
    "    \"\"\"\n",
    "    logits, labels = eval_pred\n",
    "    predictions = np.argmax(logits, axis=-1)\n",
    "    accuracy = accuracy_score(labels, predictions)\n",
    "    precision, recall, f1, _ = precision_recall_fscore_support(labels, predictions, average='macro', zero_division=0)\n",
    "    \n",
    "    # Calculate custom performance metric\n",
    "    cust_performance = 0.5 * accuracy + 0.5 * f1\n",
    "    \n",
    "    return {\n",
    "        \"eval_accuracy\": accuracy,\n",
    "        \"eval_precision\": precision,\n",
    "        \"eval_recall\": recall,\n",
    "        \"eval_f1\": f1,\n",
    "        \"eval_cust_performance\": cust_performance\n",
    "    }"
   ]
  },
  {
   "cell_type": "code",
   "execution_count": 245,
   "id": "bd2c3441-49a5-465b-8047-42a11312803c",
   "metadata": {
    "tags": []
   },
   "outputs": [],
   "source": [
    "def get_training_arguments(model_name, classification_type):\n",
    "    \"\"\"\n",
    "    Generate TrainingArguments based on the model name and classification type.\n",
    "    \n",
    "    Args:\n",
    "    model_name (str): Name of the model ('RoBERTa', 'DistilBERT', 'XLM-RoBERTa').\n",
    "    classification_type (str): Type of classification ('binary', 'multiclass').\n",
    "    \n",
    "    Returns:\n",
    "    TrainingArguments: Configured training arguments.\n",
    "    \"\"\"\n",
    "    # Define hyperparameters based on model and classification type\n",
    "    hyperparameters = {\n",
    "        'RoBERTa': {\n",
    "            'binary': {'learning_rate': 3.41877e-05, 'batch_size': 16, 'warmup_steps': 387, 'weight_decay': 0.06326},\n",
    "            'multiclass': {'learning_rate': 5.57274e-05, 'batch_size': 32, 'warmup_steps': 475, 'weight_decay': 0.15220}\n",
    "        },\n",
    "        'DistilBERT': {\n",
    "            'binary': {'learning_rate': 7.23011e-05, 'batch_size': 32, 'warmup_steps': 194, 'weight_decay': 0.29289},\n",
    "            'multiclass': {'learning_rate': 0.00011143, 'batch_size': 16, 'warmup_steps': 324, 'weight_decay': 0.04303}\n",
    "        },\n",
    "        'XLM-RoBERTa': {\n",
    "            'binary': {'learning_rate': 7.43270e-05, 'batch_size': 32, 'warmup_steps': 187, 'weight_decay': 0.11168},\n",
    "            'multiclass': {'learning_rate': 4.09464e-05, 'batch_size': 16, 'warmup_steps': 481, 'weight_decay': 0.22781}\n",
    "        }\n",
    "    }\n",
    "    \n",
    "    # Select hyperparameters for the given model and classification type\n",
    "    params = hyperparameters[model_name][classification_type]\n",
    "    \n",
    "    # Create and return TrainingArguments\n",
    "    return TrainingArguments(\n",
    "        output_dir=f\"{model_name.lower()}-{classification_type}-model\",\n",
    "        per_device_train_batch_size=params['batch_size'],\n",
    "        per_device_eval_batch_size=params['batch_size'],\n",
    "        num_train_epochs=20,  # Common setting for all models\n",
    "        eval_strategy=\"epoch\",\n",
    "        save_strategy=\"epoch\",\n",
    "        learning_rate=params['learning_rate'],\n",
    "        load_best_model_at_end=True,\n",
    "        metric_for_best_model='eval_cust_performance',\n",
    "        warmup_steps=params['warmup_steps'],\n",
    "        weight_decay=params['weight_decay'],        \n",
    "        lr_scheduler_type='cosine_with_restarts'  # learning scheduler ('linear', 'cosine', 'cosine_with_restarts', 'polynomial', 'constant', 'constant_with_warmup', 'inverse_sqrt', 'reduce_lr_on_plateau', 'cosine_with_min_lr', 'warmup_stable_decay')        \n",
    "        #lr_scheduler_type='linear'  # learning scheduler ('linear', 'cosine', 'cosine_with_restarts', 'polynomial', 'constant', 'constant_with_warmup', 'inverse_sqrt', 'reduce_lr_on_plateau', 'cosine_with_min_lr', 'warmup_stable_decay')        \n",
    "        #seed=244,\n",
    "        #save_total_limit=3  # Save only the last 3 models to save disk space\n",
    "    )\n",
    "\n",
    "def add_early_stopping(trainer, patience=3, threshold=0.01):\n",
    "    \"\"\"\n",
    "    Adds an early stopping callback to a Trainer instance.\n",
    "\n",
    "    Args:\n",
    "        trainer (Trainer): The Trainer instance to which the early stopping will be added.\n",
    "        patience (int): Number of evaluations with no improvement after which training will be stopped.\n",
    "        threshold (float): Minimum change in the monitored quantity to qualify as an improvement.\n",
    "\n",
    "    Returns:\n",
    "        Trainer: The Trainer instance with the early stopping callback added.\n",
    "    \"\"\"\n",
    "    early_stopping = EarlyStoppingCallback(early_stopping_patience=patience, early_stopping_threshold=threshold)\n",
    "    trainer.add_callback(early_stopping)\n",
    "    return trainer\n",
    "\n",
    "def evaluate_model(trainer, tokenized_datasets, model_type, dataset_name):\n",
    "    \"\"\"\n",
    "    Evaluate the model on training, validation, and test datasets, printing F1 scores for each.\n",
    "\n",
    "    Args:\n",
    "    trainer (Trainer): The Trainer object to use for evaluation.\n",
    "    tokenized_datasets (dict): Dictionary containing tokenized datasets with 'train', 'val', and 'test' keys.\n",
    "    model_type (str): Type of the model being evaluated (e.g., 'XLM-RoBERTa', 'RoBERTa', 'DistilBERT').\n",
    "    dataset_name (str): Identifier for the dataset ('SG1' or 'SG2') to specify in the output messages.\n",
    "    \"\"\"\n",
    "    # Evaluate the model on each dataset partition\n",
    "    eval_results_train = trainer.evaluate(tokenized_datasets['train'])\n",
    "    eval_results_val = trainer.evaluate(tokenized_datasets['val'])\n",
    "    eval_results_test = trainer.evaluate(tokenized_datasets['test'])\n",
    "\n",
    "    # Print out the F1 scores for each partition\n",
    "    print(f\"{model_type} {dataset_name} Training Evaluation Metrics (F1-Score): {eval_results_train.get('eval_f1', 'No F1 score available')}\")\n",
    "    print(f\"{model_type} {dataset_name} Validation Evaluation Metrics (F1-Score): {eval_results_val.get('eval_f1', 'No F1 score available')}\")\n",
    "    print(f\"{model_type} {dataset_name} Test Evaluation Metrics (F1-Score): {eval_results_test.get('eval_f1', 'No F1 score available')}\")\n"
   ]
  },
  {
   "cell_type": "markdown",
   "id": "dc2f91e0-7264-4825-92b8-97ed53d01606",
   "metadata": {
    "jp-MarkdownHeadingCollapsed": true,
    "tags": []
   },
   "source": [
    "## 1. RoBERTa Model Training for Multiclass Classification"
   ]
  },
  {
   "cell_type": "code",
   "execution_count": 13,
   "id": "929c4cf0-7f1c-4192-906d-af23fe35197f",
   "metadata": {
    "tags": []
   },
   "outputs": [
    {
     "data": {
      "application/vnd.jupyter.widget-view+json": {
       "model_id": "1661c820cce348748bbb6541ffaf899f",
       "version_major": 2,
       "version_minor": 0
      },
      "text/plain": [
       "Map:   0%|          | 0/3375 [00:00<?, ? examples/s]"
      ]
     },
     "metadata": {},
     "output_type": "display_data"
    },
    {
     "data": {
      "application/vnd.jupyter.widget-view+json": {
       "model_id": "c11e50a680284ae6b315c9b8c5da1f7d",
       "version_major": 2,
       "version_minor": 0
      },
      "text/plain": [
       "Map:   0%|          | 0/422 [00:00<?, ? examples/s]"
      ]
     },
     "metadata": {},
     "output_type": "display_data"
    },
    {
     "data": {
      "application/vnd.jupyter.widget-view+json": {
       "model_id": "edb0355434c24c94bd651d1239bf056c",
       "version_major": 2,
       "version_minor": 0
      },
      "text/plain": [
       "Map:   0%|          | 0/422 [00:00<?, ? examples/s]"
      ]
     },
     "metadata": {},
     "output_type": "display_data"
    },
    {
     "name": "stderr",
     "output_type": "stream",
     "text": [
      "Some weights of RobertaForSequenceClassification were not initialized from the model checkpoint at FacebookAI/roberta-base and are newly initialized: ['classifier.dense.bias', 'classifier.dense.weight', 'classifier.out_proj.bias', 'classifier.out_proj.weight']\n",
      "You should probably TRAIN this model on a down-stream task to be able to use it for predictions and inference.\n",
      "C:\\Users\\OEM\\anaconda3\\envs\\compsci714win\\lib\\site-packages\\transformers\\training_args.py:1474: FutureWarning: `evaluation_strategy` is deprecated and will be removed in version 4.46 of 🤗 Transformers. Use `eval_strategy` instead\n",
      "  warnings.warn(\n"
     ]
    }
   ],
   "source": [
    "# Load and process data\n",
    "file_paths = ['data/final_labels_SG1.xlsx', 'data/final_labels_SG2.xlsx']\n",
    "dataset = load_and_prepare_data(file_paths)\n",
    "\n",
    "# Prepare tokenizer and model\n",
    "Roberta_tokenizer = AutoTokenizer.from_pretrained(\"FacebookAI/roberta-base\")\n",
    "Roberta_tokenized_datasets = dataset.map(lambda x: Roberta_tokenizer(x['text'], padding=True, truncation=True), batched=True)\n",
    "Roberta_tokenized_datasets = Roberta_tokenized_datasets.remove_columns([\"text\"])\n",
    "Roberta_tokenized_datasets.set_format(\"torch\")\n",
    "\n",
    "# Initialize the model and trainer\n",
    "RobertaModel = RobertaForSequenceClassification.from_pretrained(\"FacebookAI/roberta-base\", num_labels=3)\n",
    "\n",
    "RobertaTrainer = Trainer(\n",
    "    model=RobertaModel,\n",
    "    args=get_training_arguments('RoBERTa', 'multiclass'),\n",
    "    train_dataset=Roberta_tokenized_datasets['train'],\n",
    "    eval_dataset=Roberta_tokenized_datasets['val'],\n",
    "    tokenizer=Roberta_tokenizer,\n",
    "    compute_metrics=compute_metrics\n",
    ")\n",
    "\n",
    "# Adding early stopping callback\n",
    "RobertaTrainer = add_early_stopping(RobertaTrainer, patience=3, threshold=0.01)"
   ]
  },
  {
   "cell_type": "code",
   "execution_count": 62,
   "id": "a7388644-dffe-446d-8cc3-29a511568455",
   "metadata": {
    "tags": []
   },
   "outputs": [
    {
     "data": {
      "text/html": [
       "\n",
       "    <div>\n",
       "      \n",
       "      <progress value='954' max='2120' style='width:300px; height:20px; vertical-align: middle;'></progress>\n",
       "      [ 954/2120 02:22 < 02:54, 6.70 it/s, Epoch 9/20]\n",
       "    </div>\n",
       "    <table border=\"1\" class=\"dataframe\">\n",
       "  <thead>\n",
       " <tr style=\"text-align: left;\">\n",
       "      <th>Epoch</th>\n",
       "      <th>Training Loss</th>\n",
       "      <th>Validation Loss</th>\n",
       "      <th>Accuracy</th>\n",
       "      <th>Precision</th>\n",
       "      <th>Recall</th>\n",
       "      <th>F1</th>\n",
       "      <th>Cust Performance</th>\n",
       "    </tr>\n",
       "  </thead>\n",
       "  <tbody>\n",
       "    <tr>\n",
       "      <td>1</td>\n",
       "      <td>No log</td>\n",
       "      <td>0.798678</td>\n",
       "      <td>0.545024</td>\n",
       "      <td>0.181675</td>\n",
       "      <td>0.333333</td>\n",
       "      <td>0.235174</td>\n",
       "      <td>0.390099</td>\n",
       "    </tr>\n",
       "    <tr>\n",
       "      <td>2</td>\n",
       "      <td>No log</td>\n",
       "      <td>0.732716</td>\n",
       "      <td>0.694313</td>\n",
       "      <td>0.641549</td>\n",
       "      <td>0.565079</td>\n",
       "      <td>0.570170</td>\n",
       "      <td>0.632242</td>\n",
       "    </tr>\n",
       "    <tr>\n",
       "      <td>3</td>\n",
       "      <td>No log</td>\n",
       "      <td>0.558202</td>\n",
       "      <td>0.779621</td>\n",
       "      <td>0.739259</td>\n",
       "      <td>0.738869</td>\n",
       "      <td>0.730587</td>\n",
       "      <td>0.755104</td>\n",
       "    </tr>\n",
       "    <tr>\n",
       "      <td>4</td>\n",
       "      <td>No log</td>\n",
       "      <td>0.564862</td>\n",
       "      <td>0.819905</td>\n",
       "      <td>0.801210</td>\n",
       "      <td>0.785438</td>\n",
       "      <td>0.787528</td>\n",
       "      <td>0.803717</td>\n",
       "    </tr>\n",
       "    <tr>\n",
       "      <td>5</td>\n",
       "      <td>0.641000</td>\n",
       "      <td>0.632724</td>\n",
       "      <td>0.812796</td>\n",
       "      <td>0.785497</td>\n",
       "      <td>0.786473</td>\n",
       "      <td>0.785951</td>\n",
       "      <td>0.799374</td>\n",
       "    </tr>\n",
       "    <tr>\n",
       "      <td>6</td>\n",
       "      <td>0.641000</td>\n",
       "      <td>0.656058</td>\n",
       "      <td>0.829384</td>\n",
       "      <td>0.816538</td>\n",
       "      <td>0.802652</td>\n",
       "      <td>0.809182</td>\n",
       "      <td>0.819283</td>\n",
       "    </tr>\n",
       "    <tr>\n",
       "      <td>7</td>\n",
       "      <td>0.641000</td>\n",
       "      <td>0.674551</td>\n",
       "      <td>0.817536</td>\n",
       "      <td>0.793300</td>\n",
       "      <td>0.804294</td>\n",
       "      <td>0.792749</td>\n",
       "      <td>0.805142</td>\n",
       "    </tr>\n",
       "    <tr>\n",
       "      <td>8</td>\n",
       "      <td>0.641000</td>\n",
       "      <td>0.748298</td>\n",
       "      <td>0.827014</td>\n",
       "      <td>0.802001</td>\n",
       "      <td>0.819593</td>\n",
       "      <td>0.809953</td>\n",
       "      <td>0.818484</td>\n",
       "    </tr>\n",
       "    <tr>\n",
       "      <td>9</td>\n",
       "      <td>0.641000</td>\n",
       "      <td>0.871611</td>\n",
       "      <td>0.831754</td>\n",
       "      <td>0.814087</td>\n",
       "      <td>0.806233</td>\n",
       "      <td>0.809995</td>\n",
       "      <td>0.820874</td>\n",
       "    </tr>\n",
       "  </tbody>\n",
       "</table><p>"
      ],
      "text/plain": [
       "<IPython.core.display.HTML object>"
      ]
     },
     "metadata": {},
     "output_type": "display_data"
    },
    {
     "data": {
      "text/plain": [
       "TrainOutput(global_step=954, training_loss=0.4380696374665266, metrics={'train_runtime': 146.2844, 'train_samples_per_second': 461.43, 'train_steps_per_second': 14.492, 'total_flos': 1919969956658250.0, 'train_loss': 0.4380696374665266, 'epoch': 9.0})"
      ]
     },
     "execution_count": 62,
     "metadata": {},
     "output_type": "execute_result"
    }
   ],
   "source": [
    "# Start training\n",
    "RobertaTrainer.train()"
   ]
  },
  {
   "cell_type": "code",
   "execution_count": 98,
   "id": "74706e85-de52-4ae9-bc27-b617eb428636",
   "metadata": {
    "tags": []
   },
   "outputs": [
    {
     "data": {
      "text/html": [
       "\n",
       "    <div>\n",
       "      \n",
       "      <progress value='14' max='14' style='width:300px; height:20px; vertical-align: middle;'></progress>\n",
       "      [14/14 00:00]\n",
       "    </div>\n",
       "    "
      ],
      "text/plain": [
       "<IPython.core.display.HTML object>"
      ]
     },
     "metadata": {},
     "output_type": "display_data"
    },
    {
     "name": "stdout",
     "output_type": "stream",
     "text": [
      "{'eval_accuracy': 0.23459715639810427, 'eval_precision': 0.17193254506687342, 'eval_recall': 0.23821510297482837, 'eval_f1': 0.17649506427915518, 'eval_cust_performance': 0.20554611033862974, 'eval_loss': 1.0967382192611694, 'eval_runtime': 0.8332, 'eval_samples_per_second': 506.477, 'eval_steps_per_second': 16.803}\n"
     ]
    }
   ],
   "source": [
    "eval_results = RobertaTrainer.evaluate(Roberta_tokenized_datasets['test'])\n",
    "print(eval_results)"
   ]
  },
  {
   "cell_type": "code",
   "execution_count": 75,
   "id": "ca9d5fc6-3ff5-4067-a3f6-9742d3cc9b95",
   "metadata": {
    "tags": []
   },
   "outputs": [
    {
     "name": "stdout",
     "output_type": "stream",
     "text": [
      "ROBERTA test accuracy: {'test_loss': 2.3106367588043213, 'test_eval_accuracy': 0.3246445497630332, 'test_eval_precision': 0.25392937334149823, 'test_eval_recall': 0.3217540714178993, 'test_eval_f1': 0.24435600441249195, 'test_eval_cust_performance': 0.2845002770877626, 'test_runtime': 0.572, 'test_samples_per_second': 737.762, 'test_steps_per_second': 24.476}\n"
     ]
    }
   ],
   "source": [
    "RobertaOutput = RobertaTrainer.predict(Roberta_tokenized_datasets['test'])\n",
    "print(f\"ROBERTA test accuracy: {RobertaOutput.metrics}\")"
   ]
  },
  {
   "cell_type": "code",
   "execution_count": 15,
   "id": "e26ec0ca-e7cc-4539-9af9-20aa138b05f5",
   "metadata": {
    "tags": []
   },
   "outputs": [
    {
     "data": {
      "text/plain": [
       "('./Saved-Models/RobertaMulticlass/865\\\\tokenizer_config.json',\n",
       " './Saved-Models/RobertaMulticlass/865\\\\special_tokens_map.json',\n",
       " './Saved-Models/RobertaMulticlass/865\\\\vocab.json',\n",
       " './Saved-Models/RobertaMulticlass/865\\\\merges.txt',\n",
       " './Saved-Models/RobertaMulticlass/865\\\\added_tokens.json',\n",
       " './Saved-Models/RobertaMulticlass/865\\\\tokenizer.json')"
      ]
     },
     "execution_count": 15,
     "metadata": {},
     "output_type": "execute_result"
    }
   ],
   "source": [
    "# Save the Best Model\n",
    "RobertaModel.save_pretrained('./Saved-Models/RobertaMulticlass/xxx')  # Save model and tokenizer for later use\n",
    "Roberta_tokenizer.save_pretrained('./Saved-Models/RobertaMulticlass/xxx')"
   ]
  },
  {
   "cell_type": "code",
   "execution_count": 15,
   "id": "70ecb6a1-d547-49c5-a1ad-985573f2bfee",
   "metadata": {
    "tags": []
   },
   "outputs": [],
   "source": [
    "# Load the Saved Model\n",
    "RobertaModel = RobertaForSequenceClassification.from_pretrained('./Saved-Models/RobertaMulticlass/865')\n",
    "Roberta_tokenizer = AutoTokenizer.from_pretrained('./Saved-Models/RobertaMulticlass/865')\n",
    "\n",
    "RobertaTrainer = Trainer(\n",
    "    model=RobertaModel,\n",
    "    args=get_training_arguments('RoBERTa', 'multiclass'),\n",
    "    train_dataset=Roberta_tokenized_datasets['train'],\n",
    "    eval_dataset=Roberta_tokenized_datasets['val'],\n",
    "    tokenizer=Roberta_tokenizer,\n",
    "    compute_metrics=compute_metrics\n",
    ")"
   ]
  },
  {
   "cell_type": "code",
   "execution_count": 19,
   "id": "ddd26c1f-86d2-4b11-ad00-c58c5d923b4a",
   "metadata": {
    "tags": []
   },
   "outputs": [
    {
     "data": {
      "text/html": [],
      "text/plain": [
       "<IPython.core.display.HTML object>"
      ]
     },
     "metadata": {},
     "output_type": "display_data"
    },
    {
     "name": "stdout",
     "output_type": "stream",
     "text": [
      "RoBERTa test accuracy: 0.8649289099526066 , test f1: 0.847069373114861\n"
     ]
    }
   ],
   "source": [
    "RobertaOutput = RobertaTrainer.predict(Roberta_tokenized_datasets['test'])\n",
    "print(f\"RoBERTa test accuracy: {RobertaOutput.metrics['test_eval_accuracy']} , test f1: {RobertaOutput.metrics['test_eval_f1']}\")\n"
   ]
  },
  {
   "cell_type": "markdown",
   "id": "032e6665-2c73-46d2-a4e1-e4f563d2caa9",
   "metadata": {
    "jp-MarkdownHeadingCollapsed": true,
    "tags": []
   },
   "source": [
    "## 2. RoBERTa Model Training for Binary Classiffication for each dataset (SG1 & SG2)"
   ]
  },
  {
   "cell_type": "code",
   "execution_count": 62,
   "id": "8160b18d-7d5d-411e-88f0-6c9d649d317e",
   "metadata": {
    "tags": []
   },
   "outputs": [],
   "source": [
    "# Load and process data\n",
    "SG1_dataset = load_and_prepare_binary_calssification_data(['data/final_labels_SG1.xlsx'])\n",
    "SG2_dataset = load_and_prepare_binary_calssification_data(['data/final_labels_SG2.xlsx'])\n"
   ]
  },
  {
   "cell_type": "code",
   "execution_count": 300,
   "id": "0cb3e2be-4a81-4a9c-8f5f-56c364c98816",
   "metadata": {
    "tags": []
   },
   "outputs": [
    {
     "data": {
      "application/vnd.jupyter.widget-view+json": {
       "model_id": "9e8c1205ac0b43669d76ec6679a2b260",
       "version_major": 2,
       "version_minor": 0
      },
      "text/plain": [
       "Map:   0%|          | 0/1236 [00:00<?, ? examples/s]"
      ]
     },
     "metadata": {},
     "output_type": "display_data"
    },
    {
     "data": {
      "application/vnd.jupyter.widget-view+json": {
       "model_id": "aa8572000a184a3a885e3964f8031eef",
       "version_major": 2,
       "version_minor": 0
      },
      "text/plain": [
       "Map:   0%|          | 0/155 [00:00<?, ? examples/s]"
      ]
     },
     "metadata": {},
     "output_type": "display_data"
    },
    {
     "data": {
      "application/vnd.jupyter.widget-view+json": {
       "model_id": "64ab356a108f4c21a2bfc26270056919",
       "version_major": 2,
       "version_minor": 0
      },
      "text/plain": [
       "Map:   0%|          | 0/155 [00:00<?, ? examples/s]"
      ]
     },
     "metadata": {},
     "output_type": "display_data"
    },
    {
     "data": {
      "application/vnd.jupyter.widget-view+json": {
       "model_id": "5df3d5931dfe48738c2c5595b040b55c",
       "version_major": 2,
       "version_minor": 0
      },
      "text/plain": [
       "Map:   0%|          | 0/2937 [00:00<?, ? examples/s]"
      ]
     },
     "metadata": {},
     "output_type": "display_data"
    },
    {
     "data": {
      "application/vnd.jupyter.widget-view+json": {
       "model_id": "29524892eb8747e0a3337145c002f7bb",
       "version_major": 2,
       "version_minor": 0
      },
      "text/plain": [
       "Map:   0%|          | 0/368 [00:00<?, ? examples/s]"
      ]
     },
     "metadata": {},
     "output_type": "display_data"
    },
    {
     "data": {
      "application/vnd.jupyter.widget-view+json": {
       "model_id": "a2ee7f22343a4e219aa4fd8717d317af",
       "version_major": 2,
       "version_minor": 0
      },
      "text/plain": [
       "Map:   0%|          | 0/368 [00:00<?, ? examples/s]"
      ]
     },
     "metadata": {},
     "output_type": "display_data"
    }
   ],
   "source": [
    "# Prepare tokenizer and model\n",
    "Roberta_tokenizer = AutoTokenizer.from_pretrained(\"FacebookAI/roberta-base\")\n",
    "SG1_Roberta_tokenized_dataset = SG1_dataset.map(lambda x: Roberta_tokenizer(x['text'], padding=True, truncation=True), batched=True)\n",
    "SG1_Roberta_tokenized_dataset = SG1_Roberta_tokenized_dataset.remove_columns([\"text\"])\n",
    "SG1_Roberta_tokenized_dataset.set_format(\"torch\")\n",
    "\n",
    "SG2_Roberta_tokenized_dataset = SG2_dataset.map(lambda x: Roberta_tokenizer(x['text'], padding=True, truncation=True), batched=True)\n",
    "SG2_Roberta_tokenized_dataset = SG2_Roberta_tokenized_dataset.remove_columns([\"text\"])\n",
    "SG2_Roberta_tokenized_dataset.set_format(\"torch\")\n"
   ]
  },
  {
   "cell_type": "code",
   "execution_count": 302,
   "id": "771eb514-555a-40ab-b0bd-cec443d839cb",
   "metadata": {
    "tags": []
   },
   "outputs": [
    {
     "name": "stderr",
     "output_type": "stream",
     "text": [
      "Some weights of RobertaForSequenceClassification were not initialized from the model checkpoint at FacebookAI/roberta-base and are newly initialized: ['classifier.dense.bias', 'classifier.dense.weight', 'classifier.out_proj.bias', 'classifier.out_proj.weight']\n",
      "You should probably TRAIN this model on a down-stream task to be able to use it for predictions and inference.\n"
     ]
    }
   ],
   "source": [
    "# Initialize the model and trainer\n",
    "SG1_RobertaModel = RobertaForSequenceClassification.from_pretrained(\"FacebookAI/roberta-base\", num_labels=3)\n",
    "\n",
    "SG1_RobertaTrainer = Trainer(\n",
    "    model=SG1_RobertaModel,\n",
    "    args=get_training_arguments('RoBERTa', 'binary'),\n",
    "    train_dataset=SG1_Roberta_tokenized_dataset['train'],\n",
    "    eval_dataset=SG1_Roberta_tokenized_dataset['val'],\n",
    "    tokenizer=Roberta_tokenizer,\n",
    "    compute_metrics=compute_metrics\n",
    ")\n",
    "\n",
    "# Adding early stopping callback\n",
    "SG1_RobertaTrainer = add_early_stopping(SG1_RobertaTrainer, patience=5, threshold=0.01)"
   ]
  },
  {
   "cell_type": "code",
   "execution_count": 304,
   "id": "0fbc5bbe-5d7a-4a28-8e90-a39b1dfbabfa",
   "metadata": {
    "tags": []
   },
   "outputs": [
    {
     "data": {
      "text/html": [
       "\n",
       "    <div>\n",
       "      \n",
       "      <progress value='1014' max='1560' style='width:300px; height:20px; vertical-align: middle;'></progress>\n",
       "      [1014/1560 01:37 < 00:52, 10.42 it/s, Epoch 13/20]\n",
       "    </div>\n",
       "    <table border=\"1\" class=\"dataframe\">\n",
       "  <thead>\n",
       " <tr style=\"text-align: left;\">\n",
       "      <th>Epoch</th>\n",
       "      <th>Training Loss</th>\n",
       "      <th>Validation Loss</th>\n",
       "      <th>Accuracy</th>\n",
       "      <th>Precision</th>\n",
       "      <th>Recall</th>\n",
       "      <th>F1</th>\n",
       "      <th>Cust Performance</th>\n",
       "    </tr>\n",
       "  </thead>\n",
       "  <tbody>\n",
       "    <tr>\n",
       "      <td>1</td>\n",
       "      <td>No log</td>\n",
       "      <td>0.709890</td>\n",
       "      <td>0.516129</td>\n",
       "      <td>0.258065</td>\n",
       "      <td>0.500000</td>\n",
       "      <td>0.340426</td>\n",
       "      <td>0.428277</td>\n",
       "    </tr>\n",
       "    <tr>\n",
       "      <td>2</td>\n",
       "      <td>No log</td>\n",
       "      <td>0.561619</td>\n",
       "      <td>0.748387</td>\n",
       "      <td>0.748501</td>\n",
       "      <td>0.748750</td>\n",
       "      <td>0.748345</td>\n",
       "      <td>0.748366</td>\n",
       "    </tr>\n",
       "    <tr>\n",
       "      <td>3</td>\n",
       "      <td>No log</td>\n",
       "      <td>0.580601</td>\n",
       "      <td>0.722581</td>\n",
       "      <td>0.736291</td>\n",
       "      <td>0.718333</td>\n",
       "      <td>0.715766</td>\n",
       "      <td>0.719173</td>\n",
       "    </tr>\n",
       "    <tr>\n",
       "      <td>4</td>\n",
       "      <td>No log</td>\n",
       "      <td>0.658767</td>\n",
       "      <td>0.741935</td>\n",
       "      <td>0.755376</td>\n",
       "      <td>0.745417</td>\n",
       "      <td>0.740107</td>\n",
       "      <td>0.741021</td>\n",
       "    </tr>\n",
       "    <tr>\n",
       "      <td>5</td>\n",
       "      <td>No log</td>\n",
       "      <td>1.038554</td>\n",
       "      <td>0.748387</td>\n",
       "      <td>0.748165</td>\n",
       "      <td>0.747917</td>\n",
       "      <td>0.748010</td>\n",
       "      <td>0.748198</td>\n",
       "    </tr>\n",
       "    <tr>\n",
       "      <td>6</td>\n",
       "      <td>No log</td>\n",
       "      <td>1.361090</td>\n",
       "      <td>0.754839</td>\n",
       "      <td>0.776395</td>\n",
       "      <td>0.759167</td>\n",
       "      <td>0.751854</td>\n",
       "      <td>0.753346</td>\n",
       "    </tr>\n",
       "    <tr>\n",
       "      <td>7</td>\n",
       "      <td>0.439600</td>\n",
       "      <td>1.376565</td>\n",
       "      <td>0.787097</td>\n",
       "      <td>0.795699</td>\n",
       "      <td>0.784167</td>\n",
       "      <td>0.784186</td>\n",
       "      <td>0.785642</td>\n",
       "    </tr>\n",
       "    <tr>\n",
       "      <td>8</td>\n",
       "      <td>0.439600</td>\n",
       "      <td>1.276781</td>\n",
       "      <td>0.800000</td>\n",
       "      <td>0.804307</td>\n",
       "      <td>0.797917</td>\n",
       "      <td>0.798355</td>\n",
       "      <td>0.799177</td>\n",
       "    </tr>\n",
       "    <tr>\n",
       "      <td>9</td>\n",
       "      <td>0.439600</td>\n",
       "      <td>1.510082</td>\n",
       "      <td>0.748387</td>\n",
       "      <td>0.755258</td>\n",
       "      <td>0.750833</td>\n",
       "      <td>0.747715</td>\n",
       "      <td>0.748051</td>\n",
       "    </tr>\n",
       "    <tr>\n",
       "      <td>10</td>\n",
       "      <td>0.439600</td>\n",
       "      <td>1.678127</td>\n",
       "      <td>0.748387</td>\n",
       "      <td>0.748165</td>\n",
       "      <td>0.747917</td>\n",
       "      <td>0.748010</td>\n",
       "      <td>0.748198</td>\n",
       "    </tr>\n",
       "    <tr>\n",
       "      <td>11</td>\n",
       "      <td>0.439600</td>\n",
       "      <td>1.866025</td>\n",
       "      <td>0.767742</td>\n",
       "      <td>0.776217</td>\n",
       "      <td>0.770417</td>\n",
       "      <td>0.766956</td>\n",
       "      <td>0.767349</td>\n",
       "    </tr>\n",
       "    <tr>\n",
       "      <td>12</td>\n",
       "      <td>0.439600</td>\n",
       "      <td>1.914356</td>\n",
       "      <td>0.748387</td>\n",
       "      <td>0.749167</td>\n",
       "      <td>0.749167</td>\n",
       "      <td>0.748387</td>\n",
       "      <td>0.748387</td>\n",
       "    </tr>\n",
       "    <tr>\n",
       "      <td>13</td>\n",
       "      <td>0.043100</td>\n",
       "      <td>2.073426</td>\n",
       "      <td>0.754839</td>\n",
       "      <td>0.758974</td>\n",
       "      <td>0.752500</td>\n",
       "      <td>0.752521</td>\n",
       "      <td>0.753680</td>\n",
       "    </tr>\n",
       "  </tbody>\n",
       "</table><p>"
      ],
      "text/plain": [
       "<IPython.core.display.HTML object>"
      ]
     },
     "metadata": {},
     "output_type": "display_data"
    },
    {
     "data": {
      "text/plain": [
       "TrainOutput(global_step=1014, training_loss=0.23832783526217444, metrics={'train_runtime': 99.3461, 'train_samples_per_second': 248.827, 'train_steps_per_second': 15.703, 'total_flos': 1015640403739416.0, 'train_loss': 0.23832783526217444, 'epoch': 13.0})"
      ]
     },
     "execution_count": 304,
     "metadata": {},
     "output_type": "execute_result"
    }
   ],
   "source": [
    "SG1_RobertaTrainer.train()"
   ]
  },
  {
   "cell_type": "code",
   "execution_count": 306,
   "id": "84b9d91b-fc07-45e0-8324-4061b183b72f",
   "metadata": {
    "tags": []
   },
   "outputs": [
    {
     "data": {
      "text/html": [],
      "text/plain": [
       "<IPython.core.display.HTML object>"
      ]
     },
     "metadata": {},
     "output_type": "display_data"
    },
    {
     "name": "stdout",
     "output_type": "stream",
     "text": [
      "SG1 RoBERTa test accuracy: 0.8193548387096774 , test f1: 0.8191666666666666\n"
     ]
    }
   ],
   "source": [
    "SG1_RobertaTrainer_Output = SG1_RobertaTrainer.predict(SG1_Roberta_tokenized_dataset['test'])\n",
    "print(f\"SG1 RoBERTa test accuracy: {SG1_RobertaTrainer_Output.metrics['test_eval_accuracy']} , test f1: {SG1_RobertaTrainer_Output.metrics['test_eval_f1']}\")\n"
   ]
  },
  {
   "cell_type": "code",
   "execution_count": 308,
   "id": "ebc14751-2133-41d1-acdb-a7d977def0b9",
   "metadata": {
    "tags": []
   },
   "outputs": [
    {
     "data": {
      "text/plain": [
       "('./Saved-Models/SG1/RoBERTaBinaryclass/819\\\\tokenizer_config.json',\n",
       " './Saved-Models/SG1/RoBERTaBinaryclass/819\\\\special_tokens_map.json',\n",
       " './Saved-Models/SG1/RoBERTaBinaryclass/819\\\\vocab.json',\n",
       " './Saved-Models/SG1/RoBERTaBinaryclass/819\\\\merges.txt',\n",
       " './Saved-Models/SG1/RoBERTaBinaryclass/819\\\\added_tokens.json',\n",
       " './Saved-Models/SG1/RoBERTaBinaryclass/819\\\\tokenizer.json')"
      ]
     },
     "execution_count": 308,
     "metadata": {},
     "output_type": "execute_result"
    }
   ],
   "source": [
    "# Save the Best Model\n",
    "path = './Saved-Models/SG1/RoBERTaBinaryclass/x'\n",
    "SG1_RobertaModel.save_pretrained(path)  # Save model and tokenizer for later use\n",
    "Roberta_tokenizer.save_pretrained(path)\n"
   ]
  },
  {
   "cell_type": "code",
   "execution_count": 86,
   "id": "d882e44c-be0a-4167-916a-beb4761e39a1",
   "metadata": {
    "tags": []
   },
   "outputs": [
    {
     "name": "stderr",
     "output_type": "stream",
     "text": [
      "Some weights of RobertaForSequenceClassification were not initialized from the model checkpoint at FacebookAI/roberta-base and are newly initialized: ['classifier.dense.bias', 'classifier.dense.weight', 'classifier.out_proj.bias', 'classifier.out_proj.weight']\n",
      "You should probably TRAIN this model on a down-stream task to be able to use it for predictions and inference.\n"
     ]
    }
   ],
   "source": [
    "# Initialize the model and trainer\n",
    "SG2_RobertaModel = RobertaForSequenceClassification.from_pretrained(\"FacebookAI/roberta-base\", num_labels=3)\n",
    "\n",
    "SG2_RobertaTrainer = Trainer(\n",
    "    model=SG2_RobertaModel,\n",
    "    args=get_training_arguments('RoBERTa', 'binary'),\n",
    "    train_dataset=SG2_Roberta_tokenized_dataset['train'],\n",
    "    eval_dataset=SG2_Roberta_tokenized_dataset['val'],\n",
    "    tokenizer=Roberta_tokenizer,\n",
    "    compute_metrics=compute_metrics\n",
    ")\n",
    "\n",
    "# Adding early stopping callback\n",
    "SG2_RobertaTrainer = add_early_stopping(SG2_RobertaTrainer, patience=5, threshold=0.01)"
   ]
  },
  {
   "cell_type": "code",
   "execution_count": 88,
   "id": "f54cedc9-56c2-48a5-9b1d-b6e1b572e592",
   "metadata": {
    "tags": []
   },
   "outputs": [
    {
     "data": {
      "text/html": [
       "\n",
       "    <div>\n",
       "      \n",
       "      <progress value='1656' max='3680' style='width:300px; height:20px; vertical-align: middle;'></progress>\n",
       "      [1656/3680 02:27 < 03:00, 11.24 it/s, Epoch 9/20]\n",
       "    </div>\n",
       "    <table border=\"1\" class=\"dataframe\">\n",
       "  <thead>\n",
       " <tr style=\"text-align: left;\">\n",
       "      <th>Epoch</th>\n",
       "      <th>Training Loss</th>\n",
       "      <th>Validation Loss</th>\n",
       "      <th>Accuracy</th>\n",
       "      <th>Precision</th>\n",
       "      <th>Recall</th>\n",
       "      <th>F1</th>\n",
       "      <th>Cust Performance</th>\n",
       "    </tr>\n",
       "  </thead>\n",
       "  <tbody>\n",
       "    <tr>\n",
       "      <td>1</td>\n",
       "      <td>No log</td>\n",
       "      <td>0.508196</td>\n",
       "      <td>0.779891</td>\n",
       "      <td>0.780553</td>\n",
       "      <td>0.779434</td>\n",
       "      <td>0.779525</td>\n",
       "      <td>0.779708</td>\n",
       "    </tr>\n",
       "    <tr>\n",
       "      <td>2</td>\n",
       "      <td>No log</td>\n",
       "      <td>0.543716</td>\n",
       "      <td>0.774457</td>\n",
       "      <td>0.774400</td>\n",
       "      <td>0.774441</td>\n",
       "      <td>0.774415</td>\n",
       "      <td>0.774436</td>\n",
       "    </tr>\n",
       "    <tr>\n",
       "      <td>3</td>\n",
       "      <td>0.503300</td>\n",
       "      <td>0.679685</td>\n",
       "      <td>0.777174</td>\n",
       "      <td>0.777439</td>\n",
       "      <td>0.776849</td>\n",
       "      <td>0.776937</td>\n",
       "      <td>0.777055</td>\n",
       "    </tr>\n",
       "    <tr>\n",
       "      <td>4</td>\n",
       "      <td>0.503300</td>\n",
       "      <td>0.759272</td>\n",
       "      <td>0.790761</td>\n",
       "      <td>0.792765</td>\n",
       "      <td>0.790040</td>\n",
       "      <td>0.790077</td>\n",
       "      <td>0.790419</td>\n",
       "    </tr>\n",
       "    <tr>\n",
       "      <td>5</td>\n",
       "      <td>0.503300</td>\n",
       "      <td>0.876850</td>\n",
       "      <td>0.790761</td>\n",
       "      <td>0.790804</td>\n",
       "      <td>0.790572</td>\n",
       "      <td>0.790636</td>\n",
       "      <td>0.790698</td>\n",
       "    </tr>\n",
       "    <tr>\n",
       "      <td>6</td>\n",
       "      <td>0.198900</td>\n",
       "      <td>1.066753</td>\n",
       "      <td>0.785326</td>\n",
       "      <td>0.795025</td>\n",
       "      <td>0.783807</td>\n",
       "      <td>0.782888</td>\n",
       "      <td>0.784107</td>\n",
       "    </tr>\n",
       "    <tr>\n",
       "      <td>7</td>\n",
       "      <td>0.198900</td>\n",
       "      <td>1.286387</td>\n",
       "      <td>0.790761</td>\n",
       "      <td>0.790956</td>\n",
       "      <td>0.790484</td>\n",
       "      <td>0.790574</td>\n",
       "      <td>0.790667</td>\n",
       "    </tr>\n",
       "    <tr>\n",
       "      <td>8</td>\n",
       "      <td>0.198900</td>\n",
       "      <td>1.408998</td>\n",
       "      <td>0.771739</td>\n",
       "      <td>0.777344</td>\n",
       "      <td>0.770526</td>\n",
       "      <td>0.770000</td>\n",
       "      <td>0.770870</td>\n",
       "    </tr>\n",
       "    <tr>\n",
       "      <td>9</td>\n",
       "      <td>0.073600</td>\n",
       "      <td>1.415693</td>\n",
       "      <td>0.777174</td>\n",
       "      <td>0.782051</td>\n",
       "      <td>0.776051</td>\n",
       "      <td>0.775683</td>\n",
       "      <td>0.776429</td>\n",
       "    </tr>\n",
       "  </tbody>\n",
       "</table><p>"
      ],
      "text/plain": [
       "<IPython.core.display.HTML object>"
      ]
     },
     "metadata": {},
     "output_type": "display_data"
    },
    {
     "data": {
      "text/plain": [
       "TrainOutput(global_step=1656, training_loss=0.23857643062941694, metrics={'train_runtime': 149.3175, 'train_samples_per_second': 393.39, 'train_steps_per_second': 24.645, 'total_flos': 1670775855400134.0, 'train_loss': 0.23857643062941694, 'epoch': 9.0})"
      ]
     },
     "execution_count": 88,
     "metadata": {},
     "output_type": "execute_result"
    }
   ],
   "source": [
    "SG2_RobertaTrainer.train()"
   ]
  },
  {
   "cell_type": "code",
   "execution_count": 90,
   "id": "76cb47d0-0da5-4436-ae05-dd179c3e7c9c",
   "metadata": {
    "tags": []
   },
   "outputs": [
    {
     "data": {
      "text/html": [],
      "text/plain": [
       "<IPython.core.display.HTML object>"
      ]
     },
     "metadata": {},
     "output_type": "display_data"
    },
    {
     "name": "stdout",
     "output_type": "stream",
     "text": [
      "SG2 RoBERTa test accuracy: 0.8070652173913043 , test f1: 0.8068926779154935\n"
     ]
    }
   ],
   "source": [
    "SG2_RobertaTrainer_Output = SG2_RobertaTrainer.predict(SG2_Roberta_tokenized_dataset['test'])\n",
    "print(f\"SG2 RoBERTa test accuracy: {SG2_RobertaTrainer_Output.metrics['test_eval_accuracy']} , test f1: {SG2_RobertaTrainer_Output.metrics['test_eval_f1']}\")\n"
   ]
  },
  {
   "cell_type": "code",
   "execution_count": 98,
   "id": "7154656d-7b72-4b2f-8df0-f795771cda74",
   "metadata": {
    "tags": []
   },
   "outputs": [
    {
     "data": {
      "text/plain": [
       "('./Saved-Models/SG2/RoBERTaBinaryclass/806\\\\tokenizer_config.json',\n",
       " './Saved-Models/SG2/RoBERTaBinaryclass/806\\\\special_tokens_map.json',\n",
       " './Saved-Models/SG2/RoBERTaBinaryclass/806\\\\vocab.json',\n",
       " './Saved-Models/SG2/RoBERTaBinaryclass/806\\\\merges.txt',\n",
       " './Saved-Models/SG2/RoBERTaBinaryclass/806\\\\added_tokens.json',\n",
       " './Saved-Models/SG2/RoBERTaBinaryclass/806\\\\tokenizer.json')"
      ]
     },
     "execution_count": 98,
     "metadata": {},
     "output_type": "execute_result"
    }
   ],
   "source": [
    "# Save the Best Model\n",
    "path = './Saved-Models/SG2/RoBERTaBinaryclass/x'\n",
    "SG1_RobertaModel.save_pretrained(path)  # Save model and tokenizer for later use\n",
    "Roberta_tokenizer.save_pretrained(path)\n"
   ]
  },
  {
   "cell_type": "markdown",
   "id": "fcabb9ef-34e4-4f97-9ca4-728f45da677d",
   "metadata": {
    "jp-MarkdownHeadingCollapsed": true,
    "tags": []
   },
   "source": [
    "## 3. DistilBert Model Training for Multiclass Classification"
   ]
  },
  {
   "cell_type": "code",
   "execution_count": 23,
   "id": "1fc2da94-6c59-472b-8f21-bf4daad98eaa",
   "metadata": {
    "tags": []
   },
   "outputs": [
    {
     "data": {
      "application/vnd.jupyter.widget-view+json": {
       "model_id": "19cae7c957d645a5a09f58d362e9e5d7",
       "version_major": 2,
       "version_minor": 0
      },
      "text/plain": [
       "Map:   0%|          | 0/3375 [00:00<?, ? examples/s]"
      ]
     },
     "metadata": {},
     "output_type": "display_data"
    },
    {
     "data": {
      "application/vnd.jupyter.widget-view+json": {
       "model_id": "e51ca9c3fde14b3797a20e45028c514e",
       "version_major": 2,
       "version_minor": 0
      },
      "text/plain": [
       "Map:   0%|          | 0/422 [00:00<?, ? examples/s]"
      ]
     },
     "metadata": {},
     "output_type": "display_data"
    },
    {
     "data": {
      "application/vnd.jupyter.widget-view+json": {
       "model_id": "c00d90eb54ba41f498840a9a09c13199",
       "version_major": 2,
       "version_minor": 0
      },
      "text/plain": [
       "Map:   0%|          | 0/422 [00:00<?, ? examples/s]"
      ]
     },
     "metadata": {},
     "output_type": "display_data"
    },
    {
     "name": "stderr",
     "output_type": "stream",
     "text": [
      "Some weights of DistilBertForSequenceClassification were not initialized from the model checkpoint at distilbert-base-uncased and are newly initialized: ['classifier.bias', 'classifier.weight', 'pre_classifier.bias', 'pre_classifier.weight']\n",
      "You should probably TRAIN this model on a down-stream task to be able to use it for predictions and inference.\n"
     ]
    }
   ],
   "source": [
    "# Prepare tokenizer and model\n",
    "Distilbert_tokenizer = AutoTokenizer.from_pretrained(\"distilbert-base-uncased\")\n",
    "Distilbert_tokenized_datasets = dataset.map(lambda x: Distilbert_tokenizer(x['text'], padding=True, truncation=True), batched=True)\n",
    "Distilbert_tokenized_datasets = Distilbert_tokenized_datasets.remove_columns([\"text\"])\n",
    "Distilbert_tokenized_datasets.set_format(\"torch\")\n",
    "\n",
    "# Initialize the model and trainer\n",
    "DistilbertModel = DistilBertForSequenceClassification.from_pretrained(\"distilbert-base-uncased\", num_labels=3)\n",
    "\n",
    "DistilbertTrainer = Trainer(\n",
    "    model=DistilbertModel,\n",
    "    args=get_training_arguments('DistilBERT', 'multiclass'),\n",
    "    train_dataset=Distilbert_tokenized_datasets['train'],\n",
    "    eval_dataset=Distilbert_tokenized_datasets['val'],\n",
    "    tokenizer=Distilbert_tokenizer,\n",
    "    compute_metrics=compute_metrics\n",
    ")\n",
    "\n",
    "# Adding early stopping callback\n",
    "DistilbertTrainer = add_early_stopping(DistilbertTrainer, patience=5, threshold=0.01)"
   ]
  },
  {
   "cell_type": "code",
   "execution_count": 238,
   "id": "0ae44188-c032-46bf-9181-39e526e0592c",
   "metadata": {
    "tags": []
   },
   "outputs": [
    {
     "data": {
      "text/html": [
       "\n",
       "    <div>\n",
       "      \n",
       "      <progress value='2321' max='4220' style='width:300px; height:20px; vertical-align: middle;'></progress>\n",
       "      [2321/4220 01:46 < 01:27, 21.72 it/s, Epoch 11/20]\n",
       "    </div>\n",
       "    <table border=\"1\" class=\"dataframe\">\n",
       "  <thead>\n",
       " <tr style=\"text-align: left;\">\n",
       "      <th>Epoch</th>\n",
       "      <th>Training Loss</th>\n",
       "      <th>Validation Loss</th>\n",
       "      <th>Accuracy</th>\n",
       "      <th>Precision</th>\n",
       "      <th>Recall</th>\n",
       "      <th>F1</th>\n",
       "      <th>Cust Performance</th>\n",
       "    </tr>\n",
       "  </thead>\n",
       "  <tbody>\n",
       "    <tr>\n",
       "      <td>1</td>\n",
       "      <td>No log</td>\n",
       "      <td>0.786674</td>\n",
       "      <td>0.658768</td>\n",
       "      <td>0.647410</td>\n",
       "      <td>0.538893</td>\n",
       "      <td>0.513398</td>\n",
       "      <td>0.586083</td>\n",
       "    </tr>\n",
       "    <tr>\n",
       "      <td>2</td>\n",
       "      <td>No log</td>\n",
       "      <td>0.586564</td>\n",
       "      <td>0.789100</td>\n",
       "      <td>0.758598</td>\n",
       "      <td>0.752543</td>\n",
       "      <td>0.745942</td>\n",
       "      <td>0.767521</td>\n",
       "    </tr>\n",
       "    <tr>\n",
       "      <td>3</td>\n",
       "      <td>0.706700</td>\n",
       "      <td>0.609648</td>\n",
       "      <td>0.781991</td>\n",
       "      <td>0.756204</td>\n",
       "      <td>0.772402</td>\n",
       "      <td>0.754002</td>\n",
       "      <td>0.767996</td>\n",
       "    </tr>\n",
       "    <tr>\n",
       "      <td>4</td>\n",
       "      <td>0.706700</td>\n",
       "      <td>0.811806</td>\n",
       "      <td>0.798578</td>\n",
       "      <td>0.776604</td>\n",
       "      <td>0.766361</td>\n",
       "      <td>0.763939</td>\n",
       "      <td>0.781258</td>\n",
       "    </tr>\n",
       "    <tr>\n",
       "      <td>5</td>\n",
       "      <td>0.290400</td>\n",
       "      <td>0.801942</td>\n",
       "      <td>0.831754</td>\n",
       "      <td>0.806819</td>\n",
       "      <td>0.816530</td>\n",
       "      <td>0.811431</td>\n",
       "      <td>0.821592</td>\n",
       "    </tr>\n",
       "    <tr>\n",
       "      <td>6</td>\n",
       "      <td>0.290400</td>\n",
       "      <td>0.716155</td>\n",
       "      <td>0.845972</td>\n",
       "      <td>0.827361</td>\n",
       "      <td>0.826996</td>\n",
       "      <td>0.826888</td>\n",
       "      <td>0.836430</td>\n",
       "    </tr>\n",
       "    <tr>\n",
       "      <td>7</td>\n",
       "      <td>0.290400</td>\n",
       "      <td>0.736559</td>\n",
       "      <td>0.824645</td>\n",
       "      <td>0.806815</td>\n",
       "      <td>0.800477</td>\n",
       "      <td>0.797172</td>\n",
       "      <td>0.810908</td>\n",
       "    </tr>\n",
       "    <tr>\n",
       "      <td>8</td>\n",
       "      <td>0.171900</td>\n",
       "      <td>0.876795</td>\n",
       "      <td>0.822275</td>\n",
       "      <td>0.803616</td>\n",
       "      <td>0.794474</td>\n",
       "      <td>0.798147</td>\n",
       "      <td>0.810211</td>\n",
       "    </tr>\n",
       "    <tr>\n",
       "      <td>9</td>\n",
       "      <td>0.171900</td>\n",
       "      <td>0.907476</td>\n",
       "      <td>0.829384</td>\n",
       "      <td>0.804450</td>\n",
       "      <td>0.824872</td>\n",
       "      <td>0.813367</td>\n",
       "      <td>0.821375</td>\n",
       "    </tr>\n",
       "    <tr>\n",
       "      <td>10</td>\n",
       "      <td>0.095200</td>\n",
       "      <td>0.994924</td>\n",
       "      <td>0.831754</td>\n",
       "      <td>0.813348</td>\n",
       "      <td>0.816747</td>\n",
       "      <td>0.812291</td>\n",
       "      <td>0.822022</td>\n",
       "    </tr>\n",
       "    <tr>\n",
       "      <td>11</td>\n",
       "      <td>0.095200</td>\n",
       "      <td>1.280008</td>\n",
       "      <td>0.831754</td>\n",
       "      <td>0.817634</td>\n",
       "      <td>0.822853</td>\n",
       "      <td>0.814644</td>\n",
       "      <td>0.823199</td>\n",
       "    </tr>\n",
       "  </tbody>\n",
       "</table><p>"
      ],
      "text/plain": [
       "<IPython.core.display.HTML object>"
      ]
     },
     "metadata": {},
     "output_type": "display_data"
    },
    {
     "data": {
      "text/plain": [
       "TrainOutput(global_step=2321, training_loss=0.28060221805597163, metrics={'train_runtime': 108.3237, 'train_samples_per_second': 623.132, 'train_steps_per_second': 38.957, 'total_flos': 1143016109185590.0, 'train_loss': 0.28060221805597163, 'epoch': 11.0})"
      ]
     },
     "execution_count": 238,
     "metadata": {},
     "output_type": "execute_result"
    }
   ],
   "source": [
    "# Start training\n",
    "DistilbertTrainer.train()"
   ]
  },
  {
   "cell_type": "code",
   "execution_count": 240,
   "id": "7036ee70-18f6-44c4-b645-dddec84e0976",
   "metadata": {
    "tags": []
   },
   "outputs": [
    {
     "data": {
      "text/html": [],
      "text/plain": [
       "<IPython.core.display.HTML object>"
      ]
     },
     "metadata": {},
     "output_type": "display_data"
    },
    {
     "name": "stdout",
     "output_type": "stream",
     "text": [
      "DistilBERT test accuracy: 0.8270142180094787 , test f1: 0.8034786863969533\n"
     ]
    }
   ],
   "source": [
    "DistilbertOutput = DistilbertTrainer.predict(Distilbert_tokenized_datasets['test'])\n",
    "print(f\"DistilBERT test accuracy: {DistilbertOutput.metrics['test_eval_accuracy']} , test f1: {DistilbertOutput.metrics['test_eval_f1']}\")\n"
   ]
  },
  {
   "cell_type": "code",
   "execution_count": 214,
   "id": "71271454-7b8a-476c-9690-b2762cb2ef19",
   "metadata": {
    "tags": []
   },
   "outputs": [
    {
     "data": {
      "text/plain": [
       "('./Saved-Models/DistilbertMulticlass/846\\\\tokenizer_config.json',\n",
       " './Saved-Models/DistilbertMulticlass/846\\\\special_tokens_map.json',\n",
       " './Saved-Models/DistilbertMulticlass/846\\\\vocab.txt',\n",
       " './Saved-Models/DistilbertMulticlass/846\\\\added_tokens.json',\n",
       " './Saved-Models/DistilbertMulticlass/846\\\\tokenizer.json')"
      ]
     },
     "execution_count": 214,
     "metadata": {},
     "output_type": "execute_result"
    }
   ],
   "source": [
    "# Save the Best Model\n",
    "DistilbertModel.save_pretrained('./Saved-Models/DistilbertMulticlass/xxx')  # Save model and tokenizer for later use\n",
    "Distilbert_tokenizer.save_pretrained('./Saved-Models/DistilbertMulticlass/xxx')\n"
   ]
  },
  {
   "cell_type": "code",
   "execution_count": 25,
   "id": "fe9da018-56b5-4480-9bc7-3172c45140fc",
   "metadata": {
    "tags": []
   },
   "outputs": [],
   "source": [
    "# Load the Saved Model\n",
    "DistilbertModel = DistilBertForSequenceClassification.from_pretrained('./Saved-Models/DistilbertMulticlass/846')\n",
    "Distilbert_tokenizer = AutoTokenizer.from_pretrained('./Saved-Models/DistilbertMulticlass/846')\n",
    "\n",
    "DistilbertTrainer = Trainer(\n",
    "    model=DistilbertModel,\n",
    "    args=get_training_arguments('DistilBERT', 'multiclass'),\n",
    "    train_dataset=Distilbert_tokenized_datasets['train'],\n",
    "    eval_dataset=Distilbert_tokenized_datasets['val'],\n",
    "    tokenizer=Distilbert_tokenizer,\n",
    "    compute_metrics=compute_metrics\n",
    ")\n"
   ]
  },
  {
   "cell_type": "code",
   "execution_count": 27,
   "id": "2e8ebd03-2f5f-4aa2-939e-163bfc588b40",
   "metadata": {
    "tags": []
   },
   "outputs": [
    {
     "data": {
      "text/html": [],
      "text/plain": [
       "<IPython.core.display.HTML object>"
      ]
     },
     "metadata": {},
     "output_type": "display_data"
    },
    {
     "name": "stdout",
     "output_type": "stream",
     "text": [
      "DistilBERT test accuracy: 0.8459715639810427 , test f1: 0.8230809090236137\n"
     ]
    }
   ],
   "source": [
    "DistilbertOutput = DistilbertTrainer.predict(Distilbert_tokenized_datasets['test'])\n",
    "print(f\"DistilBERT test accuracy: {DistilbertOutput.metrics['test_eval_accuracy']} , test f1: {DistilbertOutput.metrics['test_eval_f1']}\")\n"
   ]
  },
  {
   "cell_type": "markdown",
   "id": "61021473-e86d-4ece-a05e-787d5491c933",
   "metadata": {
    "jp-MarkdownHeadingCollapsed": true,
    "tags": []
   },
   "source": [
    "## 4. DistilBert Model Training for Binary Classiffication for each dataset (SG1 & SG2)"
   ]
  },
  {
   "cell_type": "code",
   "execution_count": 107,
   "id": "1a9fce86-e865-43b8-a4b5-9ef03f7e626b",
   "metadata": {
    "tags": []
   },
   "outputs": [
    {
     "data": {
      "application/vnd.jupyter.widget-view+json": {
       "model_id": "76cb767e1d774cb3afe6723da88c5871",
       "version_major": 2,
       "version_minor": 0
      },
      "text/plain": [
       "Map:   0%|          | 0/1236 [00:00<?, ? examples/s]"
      ]
     },
     "metadata": {},
     "output_type": "display_data"
    },
    {
     "data": {
      "application/vnd.jupyter.widget-view+json": {
       "model_id": "54678db2ac64456a88a07ab9b9f79c47",
       "version_major": 2,
       "version_minor": 0
      },
      "text/plain": [
       "Map:   0%|          | 0/155 [00:00<?, ? examples/s]"
      ]
     },
     "metadata": {},
     "output_type": "display_data"
    },
    {
     "data": {
      "application/vnd.jupyter.widget-view+json": {
       "model_id": "96fc73b62ffd4127be27a6e3c97c8bb1",
       "version_major": 2,
       "version_minor": 0
      },
      "text/plain": [
       "Map:   0%|          | 0/155 [00:00<?, ? examples/s]"
      ]
     },
     "metadata": {},
     "output_type": "display_data"
    },
    {
     "data": {
      "application/vnd.jupyter.widget-view+json": {
       "model_id": "74906e6302064bd088a4496dc2e5c978",
       "version_major": 2,
       "version_minor": 0
      },
      "text/plain": [
       "Map:   0%|          | 0/2937 [00:00<?, ? examples/s]"
      ]
     },
     "metadata": {},
     "output_type": "display_data"
    },
    {
     "data": {
      "application/vnd.jupyter.widget-view+json": {
       "model_id": "51a1e32b0caa4d85bfef2ee1fdb3ffe9",
       "version_major": 2,
       "version_minor": 0
      },
      "text/plain": [
       "Map:   0%|          | 0/368 [00:00<?, ? examples/s]"
      ]
     },
     "metadata": {},
     "output_type": "display_data"
    },
    {
     "data": {
      "application/vnd.jupyter.widget-view+json": {
       "model_id": "fdce40fe31dd459c8d719eb6cbb62b43",
       "version_major": 2,
       "version_minor": 0
      },
      "text/plain": [
       "Map:   0%|          | 0/368 [00:00<?, ? examples/s]"
      ]
     },
     "metadata": {},
     "output_type": "display_data"
    }
   ],
   "source": [
    "# Prepare tokenizer and model\n",
    "Distilbert_tokenizer = AutoTokenizer.from_pretrained(\"distilbert-base-uncased\")\n",
    "SG1_Distilbert_tokenized_dataset = SG1_dataset.map(lambda x: Distilbert_tokenizer(x['text'], padding=True, truncation=True), batched=True)\n",
    "SG1_Distilbert_tokenized_dataset = SG1_Distilbert_tokenized_dataset.remove_columns([\"text\"])\n",
    "SG1_Distilbert_tokenized_dataset.set_format(\"torch\")\n",
    "\n",
    "SG2_Distilbert_tokenized_dataset = SG2_dataset.map(lambda x: Distilbert_tokenizer(x['text'], padding=True, truncation=True), batched=True)\n",
    "SG2_Distilbert_tokenized_dataset = SG2_Distilbert_tokenized_dataset.remove_columns([\"text\"])\n",
    "SG2_Distilbert_tokenized_dataset.set_format(\"torch\")\n"
   ]
  },
  {
   "cell_type": "code",
   "execution_count": 171,
   "id": "445ae148-2092-4662-9c9f-d7580ac55507",
   "metadata": {
    "tags": []
   },
   "outputs": [
    {
     "name": "stderr",
     "output_type": "stream",
     "text": [
      "Some weights of DistilBertForSequenceClassification were not initialized from the model checkpoint at distilbert-base-uncased and are newly initialized: ['classifier.bias', 'classifier.weight', 'pre_classifier.bias', 'pre_classifier.weight']\n",
      "You should probably TRAIN this model on a down-stream task to be able to use it for predictions and inference.\n"
     ]
    }
   ],
   "source": [
    "# Initialize the model and trainer\n",
    "SG1_DistilbertModel = DistilBertForSequenceClassification.from_pretrained(\"distilbert-base-uncased\", num_labels=3)\n",
    "\n",
    "SG1_DistilbertTrainer = Trainer(\n",
    "    model=SG1_DistilbertModel,\n",
    "    args=get_training_arguments('DistilBERT', 'binary'),\n",
    "    train_dataset=SG1_Distilbert_tokenized_dataset['train'],\n",
    "    eval_dataset=SG1_Distilbert_tokenized_dataset['val'],\n",
    "    tokenizer=Distilbert_tokenizer,\n",
    "    compute_metrics=compute_metrics\n",
    ")\n",
    "\n",
    "# Adding early stopping callback\n",
    "SG1_DistilbertTrainer = add_early_stopping(SG1_DistilbertTrainer, patience=5, threshold=0.01)\n"
   ]
  },
  {
   "cell_type": "code",
   "execution_count": 173,
   "id": "4849e6e9-1e79-4ff7-8fb9-9ee1be25cf66",
   "metadata": {
    "tags": []
   },
   "outputs": [
    {
     "data": {
      "text/html": [
       "\n",
       "    <div>\n",
       "      \n",
       "      <progress value='429' max='780' style='width:300px; height:20px; vertical-align: middle;'></progress>\n",
       "      [429/780 00:36 < 00:30, 11.62 it/s, Epoch 11/20]\n",
       "    </div>\n",
       "    <table border=\"1\" class=\"dataframe\">\n",
       "  <thead>\n",
       " <tr style=\"text-align: left;\">\n",
       "      <th>Epoch</th>\n",
       "      <th>Training Loss</th>\n",
       "      <th>Validation Loss</th>\n",
       "      <th>Accuracy</th>\n",
       "      <th>Precision</th>\n",
       "      <th>Recall</th>\n",
       "      <th>F1</th>\n",
       "      <th>Cust Performance</th>\n",
       "    </tr>\n",
       "  </thead>\n",
       "  <tbody>\n",
       "    <tr>\n",
       "      <td>1</td>\n",
       "      <td>No log</td>\n",
       "      <td>0.750448</td>\n",
       "      <td>0.516129</td>\n",
       "      <td>0.508503</td>\n",
       "      <td>0.501667</td>\n",
       "      <td>0.382995</td>\n",
       "      <td>0.449562</td>\n",
       "    </tr>\n",
       "    <tr>\n",
       "      <td>2</td>\n",
       "      <td>No log</td>\n",
       "      <td>0.698686</td>\n",
       "      <td>0.612903</td>\n",
       "      <td>0.661290</td>\n",
       "      <td>0.603333</td>\n",
       "      <td>0.569922</td>\n",
       "      <td>0.591413</td>\n",
       "    </tr>\n",
       "    <tr>\n",
       "      <td>3</td>\n",
       "      <td>No log</td>\n",
       "      <td>0.616450</td>\n",
       "      <td>0.690323</td>\n",
       "      <td>0.713227</td>\n",
       "      <td>0.684583</td>\n",
       "      <td>0.677419</td>\n",
       "      <td>0.683871</td>\n",
       "    </tr>\n",
       "    <tr>\n",
       "      <td>4</td>\n",
       "      <td>No log</td>\n",
       "      <td>0.848702</td>\n",
       "      <td>0.696774</td>\n",
       "      <td>0.722936</td>\n",
       "      <td>0.690833</td>\n",
       "      <td>0.683275</td>\n",
       "      <td>0.690024</td>\n",
       "    </tr>\n",
       "    <tr>\n",
       "      <td>5</td>\n",
       "      <td>No log</td>\n",
       "      <td>1.063079</td>\n",
       "      <td>0.716129</td>\n",
       "      <td>0.719748</td>\n",
       "      <td>0.717917</td>\n",
       "      <td>0.715833</td>\n",
       "      <td>0.715981</td>\n",
       "    </tr>\n",
       "    <tr>\n",
       "      <td>6</td>\n",
       "      <td>No log</td>\n",
       "      <td>1.325710</td>\n",
       "      <td>0.767742</td>\n",
       "      <td>0.769211</td>\n",
       "      <td>0.766250</td>\n",
       "      <td>0.766566</td>\n",
       "      <td>0.767154</td>\n",
       "    </tr>\n",
       "    <tr>\n",
       "      <td>7</td>\n",
       "      <td>No log</td>\n",
       "      <td>1.253409</td>\n",
       "      <td>0.722581</td>\n",
       "      <td>0.722557</td>\n",
       "      <td>0.721667</td>\n",
       "      <td>0.721840</td>\n",
       "      <td>0.722210</td>\n",
       "    </tr>\n",
       "    <tr>\n",
       "      <td>8</td>\n",
       "      <td>No log</td>\n",
       "      <td>1.663277</td>\n",
       "      <td>0.722581</td>\n",
       "      <td>0.725145</td>\n",
       "      <td>0.720417</td>\n",
       "      <td>0.720299</td>\n",
       "      <td>0.721440</td>\n",
       "    </tr>\n",
       "    <tr>\n",
       "      <td>9</td>\n",
       "      <td>No log</td>\n",
       "      <td>1.869884</td>\n",
       "      <td>0.703226</td>\n",
       "      <td>0.720126</td>\n",
       "      <td>0.698333</td>\n",
       "      <td>0.693939</td>\n",
       "      <td>0.698582</td>\n",
       "    </tr>\n",
       "    <tr>\n",
       "      <td>10</td>\n",
       "      <td>No log</td>\n",
       "      <td>1.832189</td>\n",
       "      <td>0.722581</td>\n",
       "      <td>0.722694</td>\n",
       "      <td>0.722917</td>\n",
       "      <td>0.722534</td>\n",
       "      <td>0.722558</td>\n",
       "    </tr>\n",
       "    <tr>\n",
       "      <td>11</td>\n",
       "      <td>No log</td>\n",
       "      <td>1.926524</td>\n",
       "      <td>0.729032</td>\n",
       "      <td>0.731089</td>\n",
       "      <td>0.727083</td>\n",
       "      <td>0.727113</td>\n",
       "      <td>0.728072</td>\n",
       "    </tr>\n",
       "  </tbody>\n",
       "</table><p>"
      ],
      "text/plain": [
       "<IPython.core.display.HTML object>"
      ]
     },
     "metadata": {},
     "output_type": "display_data"
    },
    {
     "data": {
      "text/plain": [
       "TrainOutput(global_step=429, training_loss=0.2415687721092384, metrics={'train_runtime': 38.2649, 'train_samples_per_second': 646.022, 'train_steps_per_second': 20.384, 'total_flos': 418605479755848.0, 'train_loss': 0.2415687721092384, 'epoch': 11.0})"
      ]
     },
     "execution_count": 173,
     "metadata": {},
     "output_type": "execute_result"
    }
   ],
   "source": [
    "SG1_DistilbertTrainer.train()"
   ]
  },
  {
   "cell_type": "code",
   "execution_count": 175,
   "id": "4910e64e-b548-4e12-b2d6-3e38f454344a",
   "metadata": {
    "tags": []
   },
   "outputs": [
    {
     "data": {
      "text/html": [],
      "text/plain": [
       "<IPython.core.display.HTML object>"
      ]
     },
     "metadata": {},
     "output_type": "display_data"
    },
    {
     "name": "stdout",
     "output_type": "stream",
     "text": [
      "SG1 Distilbert test accuracy: 0.7741935483870968 , test f1: 0.7741559468798134\n"
     ]
    }
   ],
   "source": [
    "SG1_DistilbertTrainer_Output = SG1_DistilbertTrainer.predict(SG1_Distilbert_tokenized_dataset['test'])\n",
    "print(f\"SG1 Distilbert test accuracy: {SG1_DistilbertTrainer_Output.metrics['test_eval_accuracy']} , test f1: {SG1_DistilbertTrainer_Output.metrics['test_eval_f1']}\")\n"
   ]
  },
  {
   "cell_type": "code",
   "execution_count": 177,
   "id": "95fec334-4586-46e6-bcb4-05a301440352",
   "metadata": {
    "tags": []
   },
   "outputs": [
    {
     "data": {
      "text/plain": [
       "('./Saved-Models/SG1/DistilbertBinaryclass/775\\\\tokenizer_config.json',\n",
       " './Saved-Models/SG1/DistilbertBinaryclass/775\\\\special_tokens_map.json',\n",
       " './Saved-Models/SG1/DistilbertBinaryclass/775\\\\vocab.txt',\n",
       " './Saved-Models/SG1/DistilbertBinaryclass/775\\\\added_tokens.json',\n",
       " './Saved-Models/SG1/DistilbertBinaryclass/775\\\\tokenizer.json')"
      ]
     },
     "execution_count": 177,
     "metadata": {},
     "output_type": "execute_result"
    }
   ],
   "source": [
    "# Save the Best Model\n",
    "path = './Saved-Models/SG1/DistilbertBinaryclass/x'\n",
    "SG1_DistilbertModel.save_pretrained(path)  # Save model and tokenizer for later use\n",
    "Distilbert_tokenizer.save_pretrained(path)\n",
    "\n"
   ]
  },
  {
   "cell_type": "code",
   "execution_count": 223,
   "id": "db33f0db-4bad-4be3-8d7a-bb2eb21c7c0a",
   "metadata": {
    "tags": []
   },
   "outputs": [
    {
     "name": "stderr",
     "output_type": "stream",
     "text": [
      "Some weights of DistilBertForSequenceClassification were not initialized from the model checkpoint at distilbert-base-uncased and are newly initialized: ['classifier.bias', 'classifier.weight', 'pre_classifier.bias', 'pre_classifier.weight']\n",
      "You should probably TRAIN this model on a down-stream task to be able to use it for predictions and inference.\n"
     ]
    }
   ],
   "source": [
    "# Initialize the model and trainer\n",
    "SG2_DistilbertModel = DistilBertForSequenceClassification.from_pretrained(\"distilbert-base-uncased\", num_labels=3)\n",
    "\n",
    "SG2_DistilbertTrainer = Trainer(\n",
    "    model=SG2_DistilbertModel,\n",
    "    args=get_training_arguments('DistilBERT', 'binary'),\n",
    "    train_dataset=SG2_Distilbert_tokenized_dataset['train'],\n",
    "    eval_dataset=SG2_Distilbert_tokenized_dataset['val'],\n",
    "    tokenizer=Distilbert_tokenizer,\n",
    "    compute_metrics=compute_metrics\n",
    ")\n",
    "\n",
    "# Adding early stopping callback\n",
    "SG2_DistilbertTrainer = add_early_stopping(SG2_DistilbertTrainer, patience=5, threshold=0.01)"
   ]
  },
  {
   "cell_type": "code",
   "execution_count": 225,
   "id": "ce1c1c14-3863-4feb-8de8-5d72e4b16de4",
   "metadata": {
    "tags": []
   },
   "outputs": [
    {
     "data": {
      "text/html": [
       "\n",
       "    <div>\n",
       "      \n",
       "      <progress value='920' max='1840' style='width:300px; height:20px; vertical-align: middle;'></progress>\n",
       "      [ 920/1840 01:13 < 01:13, 12.58 it/s, Epoch 10/20]\n",
       "    </div>\n",
       "    <table border=\"1\" class=\"dataframe\">\n",
       "  <thead>\n",
       " <tr style=\"text-align: left;\">\n",
       "      <th>Epoch</th>\n",
       "      <th>Training Loss</th>\n",
       "      <th>Validation Loss</th>\n",
       "      <th>Accuracy</th>\n",
       "      <th>Precision</th>\n",
       "      <th>Recall</th>\n",
       "      <th>F1</th>\n",
       "      <th>Cust Performance</th>\n",
       "    </tr>\n",
       "  </thead>\n",
       "  <tbody>\n",
       "    <tr>\n",
       "      <td>1</td>\n",
       "      <td>No log</td>\n",
       "      <td>0.531308</td>\n",
       "      <td>0.736413</td>\n",
       "      <td>0.741504</td>\n",
       "      <td>0.735146</td>\n",
       "      <td>0.734276</td>\n",
       "      <td>0.735345</td>\n",
       "    </tr>\n",
       "    <tr>\n",
       "      <td>2</td>\n",
       "      <td>No log</td>\n",
       "      <td>0.545164</td>\n",
       "      <td>0.752717</td>\n",
       "      <td>0.753551</td>\n",
       "      <td>0.753139</td>\n",
       "      <td>0.752672</td>\n",
       "      <td>0.752695</td>\n",
       "    </tr>\n",
       "    <tr>\n",
       "      <td>3</td>\n",
       "      <td>No log</td>\n",
       "      <td>0.654369</td>\n",
       "      <td>0.760870</td>\n",
       "      <td>0.769904</td>\n",
       "      <td>0.762313</td>\n",
       "      <td>0.759477</td>\n",
       "      <td>0.760173</td>\n",
       "    </tr>\n",
       "    <tr>\n",
       "      <td>4</td>\n",
       "      <td>No log</td>\n",
       "      <td>0.858437</td>\n",
       "      <td>0.766304</td>\n",
       "      <td>0.772441</td>\n",
       "      <td>0.767483</td>\n",
       "      <td>0.765466</td>\n",
       "      <td>0.765885</td>\n",
       "    </tr>\n",
       "    <tr>\n",
       "      <td>5</td>\n",
       "      <td>No log</td>\n",
       "      <td>1.240010</td>\n",
       "      <td>0.782609</td>\n",
       "      <td>0.782573</td>\n",
       "      <td>0.782640</td>\n",
       "      <td>0.782583</td>\n",
       "      <td>0.782596</td>\n",
       "    </tr>\n",
       "    <tr>\n",
       "      <td>6</td>\n",
       "      <td>0.302100</td>\n",
       "      <td>1.442741</td>\n",
       "      <td>0.760870</td>\n",
       "      <td>0.760922</td>\n",
       "      <td>0.760983</td>\n",
       "      <td>0.760863</td>\n",
       "      <td>0.760866</td>\n",
       "    </tr>\n",
       "    <tr>\n",
       "      <td>7</td>\n",
       "      <td>0.302100</td>\n",
       "      <td>1.455968</td>\n",
       "      <td>0.769022</td>\n",
       "      <td>0.768972</td>\n",
       "      <td>0.768916</td>\n",
       "      <td>0.768938</td>\n",
       "      <td>0.768980</td>\n",
       "    </tr>\n",
       "    <tr>\n",
       "      <td>8</td>\n",
       "      <td>0.302100</td>\n",
       "      <td>1.520886</td>\n",
       "      <td>0.774457</td>\n",
       "      <td>0.774483</td>\n",
       "      <td>0.774264</td>\n",
       "      <td>0.774322</td>\n",
       "      <td>0.774389</td>\n",
       "    </tr>\n",
       "    <tr>\n",
       "      <td>9</td>\n",
       "      <td>0.302100</td>\n",
       "      <td>1.436055</td>\n",
       "      <td>0.760870</td>\n",
       "      <td>0.762356</td>\n",
       "      <td>0.760186</td>\n",
       "      <td>0.760161</td>\n",
       "      <td>0.760515</td>\n",
       "    </tr>\n",
       "    <tr>\n",
       "      <td>10</td>\n",
       "      <td>0.302100</td>\n",
       "      <td>1.573299</td>\n",
       "      <td>0.766304</td>\n",
       "      <td>0.766380</td>\n",
       "      <td>0.766065</td>\n",
       "      <td>0.766132</td>\n",
       "      <td>0.766218</td>\n",
       "    </tr>\n",
       "  </tbody>\n",
       "</table><p>"
      ],
      "text/plain": [
       "<IPython.core.display.HTML object>"
      ]
     },
     "metadata": {},
     "output_type": "display_data"
    },
    {
     "data": {
      "text/plain": [
       "TrainOutput(global_step=920, training_loss=0.17022034396295962, metrics={'train_runtime': 74.6094, 'train_samples_per_second': 787.3, 'train_steps_per_second': 24.662, 'total_flos': 904269118890060.0, 'train_loss': 0.17022034396295962, 'epoch': 10.0})"
      ]
     },
     "execution_count": 225,
     "metadata": {},
     "output_type": "execute_result"
    }
   ],
   "source": [
    "SG2_DistilbertTrainer.train()"
   ]
  },
  {
   "cell_type": "code",
   "execution_count": 227,
   "id": "97f0d58f-613d-47cd-b318-e6159d388372",
   "metadata": {
    "tags": []
   },
   "outputs": [
    {
     "data": {
      "text/html": [],
      "text/plain": [
       "<IPython.core.display.HTML object>"
      ]
     },
     "metadata": {},
     "output_type": "display_data"
    },
    {
     "name": "stdout",
     "output_type": "stream",
     "text": [
      "SG2 Distilbert test accuracy: 0.7853260869565217 , test f1: 0.7850578536837824\n"
     ]
    }
   ],
   "source": [
    "SG2_DistilbertTrainer_Output = SG2_DistilbertTrainer.predict(SG2_Distilbert_tokenized_dataset['test'])\n",
    "print(f\"SG2 Distilbert test accuracy: {SG2_DistilbertTrainer_Output.metrics['test_eval_accuracy']} , test f1: {SG2_DistilbertTrainer_Output.metrics['test_eval_f1']}\")\n"
   ]
  },
  {
   "cell_type": "code",
   "execution_count": 229,
   "id": "10531b9c-4319-4738-898a-f88c502dae2e",
   "metadata": {
    "tags": []
   },
   "outputs": [
    {
     "data": {
      "text/plain": [
       "('./Saved-Models/SG2/DistilbertBinaryclass/785\\\\tokenizer_config.json',\n",
       " './Saved-Models/SG2/DistilbertBinaryclass/785\\\\special_tokens_map.json',\n",
       " './Saved-Models/SG2/DistilbertBinaryclass/785\\\\vocab.txt',\n",
       " './Saved-Models/SG2/DistilbertBinaryclass/785\\\\added_tokens.json',\n",
       " './Saved-Models/SG2/DistilbertBinaryclass/785\\\\tokenizer.json')"
      ]
     },
     "execution_count": 229,
     "metadata": {},
     "output_type": "execute_result"
    }
   ],
   "source": [
    "# Save the Best Model\n",
    "path = './Saved-Models/SG2/DistilbertBinaryclass/x'\n",
    "SG1_DistilbertModel.save_pretrained(path)  # Save model and tokenizer for later use\n",
    "Distilbert_tokenizer.save_pretrained(path)"
   ]
  },
  {
   "cell_type": "markdown",
   "id": "afa7354d-680e-4340-a267-27c9ceb99fa9",
   "metadata": {
    "jp-MarkdownHeadingCollapsed": true,
    "tags": []
   },
   "source": [
    "## 5. XLM-RoBERTa Model Training for Multiclass Classification"
   ]
  },
  {
   "cell_type": "code",
   "execution_count": 51,
   "id": "445aac83-8322-425e-8934-cced1cb43181",
   "metadata": {
    "tags": []
   },
   "outputs": [
    {
     "data": {
      "application/vnd.jupyter.widget-view+json": {
       "model_id": "20beea5288114306b16210f2e9387d0c",
       "version_major": 2,
       "version_minor": 0
      },
      "text/plain": [
       "Map:   0%|          | 0/3375 [00:00<?, ? examples/s]"
      ]
     },
     "metadata": {},
     "output_type": "display_data"
    },
    {
     "data": {
      "application/vnd.jupyter.widget-view+json": {
       "model_id": "1a5021a58fb94915a7c983f6a74616ee",
       "version_major": 2,
       "version_minor": 0
      },
      "text/plain": [
       "Map:   0%|          | 0/422 [00:00<?, ? examples/s]"
      ]
     },
     "metadata": {},
     "output_type": "display_data"
    },
    {
     "data": {
      "application/vnd.jupyter.widget-view+json": {
       "model_id": "97f2a1f82cb44322a5b0e084e4bdc0c5",
       "version_major": 2,
       "version_minor": 0
      },
      "text/plain": [
       "Map:   0%|          | 0/422 [00:00<?, ? examples/s]"
      ]
     },
     "metadata": {},
     "output_type": "display_data"
    },
    {
     "name": "stderr",
     "output_type": "stream",
     "text": [
      "Some weights of XLMRobertaForSequenceClassification were not initialized from the model checkpoint at FacebookAI/xlm-roberta-base and are newly initialized: ['classifier.dense.bias', 'classifier.dense.weight', 'classifier.out_proj.bias', 'classifier.out_proj.weight']\n",
      "You should probably TRAIN this model on a down-stream task to be able to use it for predictions and inference.\n"
     ]
    }
   ],
   "source": [
    "# Prepare tokenizer and model\n",
    "XLM_RoBERTa_tokenizer = AutoTokenizer.from_pretrained(\"FacebookAI/xlm-roberta-base\")\n",
    "XLM_RoBERTa_tokenized_datasets = dataset.map(lambda x: XLM_RoBERTa_tokenizer(x['text'], padding=True, truncation=True), batched=True)\n",
    "XLM_RoBERTa_tokenized_datasets = XLM_RoBERTa_tokenized_datasets.remove_columns([\"text\"])\n",
    "XLM_RoBERTa_tokenized_datasets.set_format(\"torch\")\n",
    "\n",
    "# Initialize the model and trainer\n",
    "XLMRoBERTaModel = XLMRobertaForSequenceClassification.from_pretrained(\"FacebookAI/xlm-roberta-base\",num_labels=3)\n",
    "\n",
    "XLMRoBERTaTrainer = Trainer(\n",
    "    model=XLMRoBERTaModel,\n",
    "    args=get_training_arguments('XLM-RoBERTa', 'multiclass'),\n",
    "    train_dataset=XLM_RoBERTa_tokenized_datasets['train'],\n",
    "    eval_dataset=XLM_RoBERTa_tokenized_datasets['val'],\n",
    "    tokenizer=XLM_RoBERTa_tokenizer,\n",
    "    compute_metrics=compute_metrics\n",
    ")\n",
    "\n",
    "# Adding early stopping callback\n",
    "XLMRoBERTaTrainer = add_early_stopping(XLMRoBERTaTrainer, patience=5, threshold=0.01)"
   ]
  },
  {
   "cell_type": "code",
   "execution_count": 53,
   "id": "ac532bc6-faa4-424b-83a0-505ddcce5f32",
   "metadata": {
    "tags": []
   },
   "outputs": [
    {
     "data": {
      "text/html": [
       "\n",
       "    <div>\n",
       "      \n",
       "      <progress value='3165' max='4220' style='width:300px; height:20px; vertical-align: middle;'></progress>\n",
       "      [3165/4220 07:43 < 02:34, 6.83 it/s, Epoch 15/20]\n",
       "    </div>\n",
       "    <table border=\"1\" class=\"dataframe\">\n",
       "  <thead>\n",
       " <tr style=\"text-align: left;\">\n",
       "      <th>Epoch</th>\n",
       "      <th>Training Loss</th>\n",
       "      <th>Validation Loss</th>\n",
       "      <th>Accuracy</th>\n",
       "      <th>Precision</th>\n",
       "      <th>Recall</th>\n",
       "      <th>F1</th>\n",
       "      <th>Cust Performance</th>\n",
       "    </tr>\n",
       "  </thead>\n",
       "  <tbody>\n",
       "    <tr>\n",
       "      <td>1</td>\n",
       "      <td>No log</td>\n",
       "      <td>0.820231</td>\n",
       "      <td>0.639810</td>\n",
       "      <td>0.552020</td>\n",
       "      <td>0.503670</td>\n",
       "      <td>0.492000</td>\n",
       "      <td>0.565905</td>\n",
       "    </tr>\n",
       "    <tr>\n",
       "      <td>2</td>\n",
       "      <td>No log</td>\n",
       "      <td>0.713222</td>\n",
       "      <td>0.699052</td>\n",
       "      <td>0.626746</td>\n",
       "      <td>0.619933</td>\n",
       "      <td>0.622905</td>\n",
       "      <td>0.660979</td>\n",
       "    </tr>\n",
       "    <tr>\n",
       "      <td>3</td>\n",
       "      <td>0.898100</td>\n",
       "      <td>0.695157</td>\n",
       "      <td>0.718009</td>\n",
       "      <td>0.644848</td>\n",
       "      <td>0.651220</td>\n",
       "      <td>0.631218</td>\n",
       "      <td>0.674614</td>\n",
       "    </tr>\n",
       "    <tr>\n",
       "      <td>4</td>\n",
       "      <td>0.898100</td>\n",
       "      <td>0.739515</td>\n",
       "      <td>0.715640</td>\n",
       "      <td>0.680439</td>\n",
       "      <td>0.648218</td>\n",
       "      <td>0.613825</td>\n",
       "      <td>0.664732</td>\n",
       "    </tr>\n",
       "    <tr>\n",
       "      <td>5</td>\n",
       "      <td>0.557000</td>\n",
       "      <td>0.682170</td>\n",
       "      <td>0.772512</td>\n",
       "      <td>0.743801</td>\n",
       "      <td>0.707893</td>\n",
       "      <td>0.718118</td>\n",
       "      <td>0.745315</td>\n",
       "    </tr>\n",
       "    <tr>\n",
       "      <td>6</td>\n",
       "      <td>0.557000</td>\n",
       "      <td>0.788012</td>\n",
       "      <td>0.812796</td>\n",
       "      <td>0.798570</td>\n",
       "      <td>0.766674</td>\n",
       "      <td>0.777744</td>\n",
       "      <td>0.795270</td>\n",
       "    </tr>\n",
       "    <tr>\n",
       "      <td>7</td>\n",
       "      <td>0.557000</td>\n",
       "      <td>0.735734</td>\n",
       "      <td>0.817536</td>\n",
       "      <td>0.807996</td>\n",
       "      <td>0.783989</td>\n",
       "      <td>0.790287</td>\n",
       "      <td>0.803911</td>\n",
       "    </tr>\n",
       "    <tr>\n",
       "      <td>8</td>\n",
       "      <td>0.303200</td>\n",
       "      <td>0.981611</td>\n",
       "      <td>0.815166</td>\n",
       "      <td>0.796314</td>\n",
       "      <td>0.790343</td>\n",
       "      <td>0.792617</td>\n",
       "      <td>0.803892</td>\n",
       "    </tr>\n",
       "    <tr>\n",
       "      <td>9</td>\n",
       "      <td>0.303200</td>\n",
       "      <td>0.849349</td>\n",
       "      <td>0.824645</td>\n",
       "      <td>0.801649</td>\n",
       "      <td>0.802174</td>\n",
       "      <td>0.801025</td>\n",
       "      <td>0.812835</td>\n",
       "    </tr>\n",
       "    <tr>\n",
       "      <td>10</td>\n",
       "      <td>0.211100</td>\n",
       "      <td>0.835051</td>\n",
       "      <td>0.843602</td>\n",
       "      <td>0.833215</td>\n",
       "      <td>0.817670</td>\n",
       "      <td>0.824548</td>\n",
       "      <td>0.834075</td>\n",
       "    </tr>\n",
       "    <tr>\n",
       "      <td>11</td>\n",
       "      <td>0.211100</td>\n",
       "      <td>0.914067</td>\n",
       "      <td>0.822275</td>\n",
       "      <td>0.796286</td>\n",
       "      <td>0.810444</td>\n",
       "      <td>0.802774</td>\n",
       "      <td>0.812524</td>\n",
       "    </tr>\n",
       "    <tr>\n",
       "      <td>12</td>\n",
       "      <td>0.156900</td>\n",
       "      <td>0.899958</td>\n",
       "      <td>0.838863</td>\n",
       "      <td>0.841458</td>\n",
       "      <td>0.806606</td>\n",
       "      <td>0.821267</td>\n",
       "      <td>0.830065</td>\n",
       "    </tr>\n",
       "    <tr>\n",
       "      <td>13</td>\n",
       "      <td>0.156900</td>\n",
       "      <td>0.972579</td>\n",
       "      <td>0.817536</td>\n",
       "      <td>0.807679</td>\n",
       "      <td>0.785252</td>\n",
       "      <td>0.795302</td>\n",
       "      <td>0.806419</td>\n",
       "    </tr>\n",
       "    <tr>\n",
       "      <td>14</td>\n",
       "      <td>0.156900</td>\n",
       "      <td>1.140542</td>\n",
       "      <td>0.817536</td>\n",
       "      <td>0.798767</td>\n",
       "      <td>0.789227</td>\n",
       "      <td>0.793224</td>\n",
       "      <td>0.805380</td>\n",
       "    </tr>\n",
       "    <tr>\n",
       "      <td>15</td>\n",
       "      <td>0.099400</td>\n",
       "      <td>1.106656</td>\n",
       "      <td>0.824645</td>\n",
       "      <td>0.813833</td>\n",
       "      <td>0.793719</td>\n",
       "      <td>0.802925</td>\n",
       "      <td>0.813785</td>\n",
       "    </tr>\n",
       "  </tbody>\n",
       "</table><p>"
      ],
      "text/plain": [
       "<IPython.core.display.HTML object>"
      ]
     },
     "metadata": {},
     "output_type": "display_data"
    },
    {
     "data": {
      "text/plain": [
       "TrainOutput(global_step=3165, training_loss=0.35600686849199387, metrics={'train_runtime': 467.5868, 'train_samples_per_second': 144.358, 'train_steps_per_second': 9.025, 'total_flos': 3589365494402100.0, 'train_loss': 0.35600686849199387, 'epoch': 15.0})"
      ]
     },
     "execution_count": 53,
     "metadata": {},
     "output_type": "execute_result"
    }
   ],
   "source": [
    "# Start training\n",
    "XLMRoBERTaTrainer.train()"
   ]
  },
  {
   "cell_type": "code",
   "execution_count": 55,
   "id": "ef2774d3-f338-4538-9bd8-77a19b679d3a",
   "metadata": {
    "tags": []
   },
   "outputs": [
    {
     "data": {
      "text/html": [],
      "text/plain": [
       "<IPython.core.display.HTML object>"
      ]
     },
     "metadata": {},
     "output_type": "display_data"
    },
    {
     "name": "stdout",
     "output_type": "stream",
     "text": [
      "XLM-RoBERTa test accuracy: 0.8507109004739336 , test f1: 0.8318914177600322\n"
     ]
    }
   ],
   "source": [
    "XLMRoBERTaOutput = XLMRoBERTaTrainer.predict(XLM_RoBERTa_tokenized_datasets['test'])\n",
    "print(f\"XLM-RoBERTa test accuracy: {XLMRoBERTaOutput.metrics['test_eval_accuracy']} , test f1: {XLMRoBERTaOutput.metrics['test_eval_f1']}\")\n"
   ]
  },
  {
   "cell_type": "code",
   "execution_count": 57,
   "id": "4d902b9a-95ab-47e6-bb9c-823bfce5ac2f",
   "metadata": {
    "tags": []
   },
   "outputs": [
    {
     "data": {
      "text/plain": [
       "('./Saved-Models/XLMRoBERTaMulticlass/850\\\\tokenizer_config.json',\n",
       " './Saved-Models/XLMRoBERTaMulticlass/850\\\\special_tokens_map.json',\n",
       " './Saved-Models/XLMRoBERTaMulticlass/850\\\\tokenizer.json')"
      ]
     },
     "execution_count": 57,
     "metadata": {},
     "output_type": "execute_result"
    }
   ],
   "source": [
    "# Save the Best Model\n",
    "XLMRoBERTaModel.save_pretrained('./Saved-Models/XLMRoBERTaMulticlass/xxx')  # Save model and tokenizer for later use\n",
    "XLM_RoBERTa_tokenizer.save_pretrained('./Saved-Models/XLMRoBERTaMulticlass/xxx')\n"
   ]
  },
  {
   "cell_type": "code",
   "execution_count": 59,
   "id": "f3d246a4-3055-4bab-9444-315e71848254",
   "metadata": {
    "tags": []
   },
   "outputs": [
    {
     "name": "stderr",
     "output_type": "stream",
     "text": [
      "C:\\Users\\OEM\\anaconda3\\envs\\compsci714win\\lib\\site-packages\\transformers\\training_args.py:1474: FutureWarning: `evaluation_strategy` is deprecated and will be removed in version 4.46 of 🤗 Transformers. Use `eval_strategy` instead\n",
      "  warnings.warn(\n"
     ]
    }
   ],
   "source": [
    "# Load the Saved Model\n",
    "XLMRoBERTaModel = XLMRobertaForSequenceClassification.from_pretrained('./Saved-Models/XLMRoBERTaMulticlass/850')\n",
    "XLM_RoBERTa_tokenizer = AutoTokenizer.from_pretrained('./Saved-Models/XLMRoBERTaMulticlass/850')\n",
    "\n",
    "XLMRoBERTaTrainer = Trainer(\n",
    "    model=XLMRoBERTaModel,\n",
    "    args=get_training_arguments('XLM-RoBERTa', 'multiclass'),\n",
    "    train_dataset=XLM_RoBERTa_tokenized_datasets['train'],\n",
    "    eval_dataset=XLM_RoBERTa_tokenized_datasets['val'],\n",
    "    tokenizer=XLM_RoBERTa_tokenizer,\n",
    "    compute_metrics=compute_metrics\n",
    ")"
   ]
  },
  {
   "cell_type": "code",
   "execution_count": 61,
   "id": "17fe996a-14eb-46df-868c-a1dc8de4547f",
   "metadata": {
    "tags": []
   },
   "outputs": [
    {
     "data": {
      "text/html": [],
      "text/plain": [
       "<IPython.core.display.HTML object>"
      ]
     },
     "metadata": {},
     "output_type": "display_data"
    },
    {
     "name": "stdout",
     "output_type": "stream",
     "text": [
      "DistilBERT test accuracy: 0.8507109004739336 , test f1: 0.8318914177600322\n"
     ]
    }
   ],
   "source": [
    "XLMRoBERTaOutput = XLMRoBERTaTrainer.predict(XLM_RoBERTa_tokenized_datasets['test'])\n",
    "print(f\"DistilBERT test accuracy: {XLMRoBERTaOutput.metrics['test_eval_accuracy']} , test f1: {XLMRoBERTaOutput.metrics['test_eval_f1']}\")\n"
   ]
  },
  {
   "cell_type": "markdown",
   "id": "6df967cf-2a49-4bbf-b794-48696a09f317",
   "metadata": {
    "jp-MarkdownHeadingCollapsed": true,
    "tags": []
   },
   "source": [
    "## 6. XLM-RoBERTa Model Training for Binary Classiffication for each dataset (SG1 & SG2)"
   ]
  },
  {
   "cell_type": "code",
   "execution_count": 237,
   "id": "04bc293a-3fcd-4c44-8e7a-61ba727dc440",
   "metadata": {
    "tags": []
   },
   "outputs": [
    {
     "data": {
      "application/vnd.jupyter.widget-view+json": {
       "model_id": "281579c7740447618ff15a583c9d93cd",
       "version_major": 2,
       "version_minor": 0
      },
      "text/plain": [
       "Map:   0%|          | 0/1236 [00:00<?, ? examples/s]"
      ]
     },
     "metadata": {},
     "output_type": "display_data"
    },
    {
     "data": {
      "application/vnd.jupyter.widget-view+json": {
       "model_id": "4eba5270a51044048baa7bd6cce09bf9",
       "version_major": 2,
       "version_minor": 0
      },
      "text/plain": [
       "Map:   0%|          | 0/155 [00:00<?, ? examples/s]"
      ]
     },
     "metadata": {},
     "output_type": "display_data"
    },
    {
     "data": {
      "application/vnd.jupyter.widget-view+json": {
       "model_id": "54ed9b6d67404e7da12661f61d0325a1",
       "version_major": 2,
       "version_minor": 0
      },
      "text/plain": [
       "Map:   0%|          | 0/155 [00:00<?, ? examples/s]"
      ]
     },
     "metadata": {},
     "output_type": "display_data"
    },
    {
     "data": {
      "application/vnd.jupyter.widget-view+json": {
       "model_id": "d9ebb53e890e496c9650ea7d5e14b753",
       "version_major": 2,
       "version_minor": 0
      },
      "text/plain": [
       "Map:   0%|          | 0/2937 [00:00<?, ? examples/s]"
      ]
     },
     "metadata": {},
     "output_type": "display_data"
    },
    {
     "data": {
      "application/vnd.jupyter.widget-view+json": {
       "model_id": "24fd416342704b87b1b003a2957d8db6",
       "version_major": 2,
       "version_minor": 0
      },
      "text/plain": [
       "Map:   0%|          | 0/368 [00:00<?, ? examples/s]"
      ]
     },
     "metadata": {},
     "output_type": "display_data"
    },
    {
     "data": {
      "application/vnd.jupyter.widget-view+json": {
       "model_id": "25a2299a081f489bb23c21d6a7db38e5",
       "version_major": 2,
       "version_minor": 0
      },
      "text/plain": [
       "Map:   0%|          | 0/368 [00:00<?, ? examples/s]"
      ]
     },
     "metadata": {},
     "output_type": "display_data"
    }
   ],
   "source": [
    "# Prepare tokenizer and model\n",
    "XLM_Roberta_tokenizer = AutoTokenizer.from_pretrained(\"FacebookAI/xlm-roberta-base\")\n",
    "SG1_XLM_Roberta_tokenized_dataset = SG1_dataset.map(lambda x: XLM_Roberta_tokenizer(x['text'], padding=True, truncation=True), batched=True)\n",
    "SG1_XLM_Roberta_tokenized_dataset = SG1_XLM_Roberta_tokenized_dataset.remove_columns([\"text\"])\n",
    "SG1_XLM_Roberta_tokenized_dataset.set_format(\"torch\")\n",
    "\n",
    "SG2_XLM_Roberta_tokenized_dataset = SG2_dataset.map(lambda x: XLM_Roberta_tokenizer(x['text'], padding=True, truncation=True), batched=True)\n",
    "SG2_XLM_Roberta_tokenized_dataset = SG2_XLM_Roberta_tokenized_dataset.remove_columns([\"text\"])\n",
    "SG2_XLM_Roberta_tokenized_dataset.set_format(\"torch\")\n"
   ]
  },
  {
   "cell_type": "code",
   "execution_count": 253,
   "id": "c994952e-c036-413a-bfa2-cfabb49df327",
   "metadata": {
    "tags": []
   },
   "outputs": [
    {
     "name": "stderr",
     "output_type": "stream",
     "text": [
      "Some weights of XLMRobertaForSequenceClassification were not initialized from the model checkpoint at FacebookAI/xlm-roberta-base and are newly initialized: ['classifier.dense.bias', 'classifier.dense.weight', 'classifier.out_proj.bias', 'classifier.out_proj.weight']\n",
      "You should probably TRAIN this model on a down-stream task to be able to use it for predictions and inference.\n"
     ]
    }
   ],
   "source": [
    "# Initialize the model and trainer\n",
    "SG1_XLM_RobertaModel = XLMRobertaForSequenceClassification.from_pretrained(\"FacebookAI/xlm-roberta-base\",num_labels=3)\n",
    "\n",
    "SG1_XLM_RobertaTrainer = Trainer(\n",
    "    model=SG1_XLM_RobertaModel,\n",
    "    args=get_training_arguments('XLM-RoBERTa', 'binary'),\n",
    "    train_dataset=SG1_XLM_Roberta_tokenized_dataset['train'],\n",
    "    eval_dataset=SG1_XLM_Roberta_tokenized_dataset['val'],\n",
    "    tokenizer=XLM_Roberta_tokenizer,\n",
    "    compute_metrics=compute_metrics\n",
    ")\n",
    "\n",
    "# Adding early stopping callback\n",
    "SG1_XLM_RobertaTrainer = add_early_stopping(SG1_XLM_RobertaTrainer, patience=5, threshold=0.01)\n"
   ]
  },
  {
   "cell_type": "code",
   "execution_count": 255,
   "id": "ef0875e2-d5cd-49a8-9838-2642f38a89c5",
   "metadata": {
    "tags": []
   },
   "outputs": [
    {
     "data": {
      "text/html": [
       "\n",
       "    <div>\n",
       "      \n",
       "      <progress value='507' max='780' style='width:300px; height:20px; vertical-align: middle;'></progress>\n",
       "      [507/780 02:16 < 01:13, 3.71 it/s, Epoch 13/20]\n",
       "    </div>\n",
       "    <table border=\"1\" class=\"dataframe\">\n",
       "  <thead>\n",
       " <tr style=\"text-align: left;\">\n",
       "      <th>Epoch</th>\n",
       "      <th>Training Loss</th>\n",
       "      <th>Validation Loss</th>\n",
       "      <th>Accuracy</th>\n",
       "      <th>Precision</th>\n",
       "      <th>Recall</th>\n",
       "      <th>F1</th>\n",
       "      <th>Cust Performance</th>\n",
       "    </tr>\n",
       "  </thead>\n",
       "  <tbody>\n",
       "    <tr>\n",
       "      <td>1</td>\n",
       "      <td>No log</td>\n",
       "      <td>0.693372</td>\n",
       "      <td>0.522581</td>\n",
       "      <td>0.593202</td>\n",
       "      <td>0.507083</td>\n",
       "      <td>0.366158</td>\n",
       "      <td>0.444369</td>\n",
       "    </tr>\n",
       "    <tr>\n",
       "      <td>2</td>\n",
       "      <td>No log</td>\n",
       "      <td>0.738100</td>\n",
       "      <td>0.664516</td>\n",
       "      <td>0.704926</td>\n",
       "      <td>0.671250</td>\n",
       "      <td>0.652346</td>\n",
       "      <td>0.658431</td>\n",
       "    </tr>\n",
       "    <tr>\n",
       "      <td>3</td>\n",
       "      <td>No log</td>\n",
       "      <td>0.919719</td>\n",
       "      <td>0.619355</td>\n",
       "      <td>0.721292</td>\n",
       "      <td>0.607917</td>\n",
       "      <td>0.557379</td>\n",
       "      <td>0.588367</td>\n",
       "    </tr>\n",
       "    <tr>\n",
       "      <td>4</td>\n",
       "      <td>No log</td>\n",
       "      <td>0.823371</td>\n",
       "      <td>0.658065</td>\n",
       "      <td>0.737333</td>\n",
       "      <td>0.648333</td>\n",
       "      <td>0.618351</td>\n",
       "      <td>0.638208</td>\n",
       "    </tr>\n",
       "    <tr>\n",
       "      <td>5</td>\n",
       "      <td>No log</td>\n",
       "      <td>0.885407</td>\n",
       "      <td>0.741935</td>\n",
       "      <td>0.749826</td>\n",
       "      <td>0.738750</td>\n",
       "      <td>0.737999</td>\n",
       "      <td>0.739967</td>\n",
       "    </tr>\n",
       "    <tr>\n",
       "      <td>6</td>\n",
       "      <td>No log</td>\n",
       "      <td>0.735012</td>\n",
       "      <td>0.741935</td>\n",
       "      <td>0.742287</td>\n",
       "      <td>0.740833</td>\n",
       "      <td>0.741062</td>\n",
       "      <td>0.741499</td>\n",
       "    </tr>\n",
       "    <tr>\n",
       "      <td>7</td>\n",
       "      <td>No log</td>\n",
       "      <td>1.354526</td>\n",
       "      <td>0.722581</td>\n",
       "      <td>0.739732</td>\n",
       "      <td>0.717917</td>\n",
       "      <td>0.714549</td>\n",
       "      <td>0.718565</td>\n",
       "    </tr>\n",
       "    <tr>\n",
       "      <td>8</td>\n",
       "      <td>No log</td>\n",
       "      <td>1.222772</td>\n",
       "      <td>0.761290</td>\n",
       "      <td>0.766569</td>\n",
       "      <td>0.758750</td>\n",
       "      <td>0.758719</td>\n",
       "      <td>0.760005</td>\n",
       "    </tr>\n",
       "    <tr>\n",
       "      <td>9</td>\n",
       "      <td>No log</td>\n",
       "      <td>1.500663</td>\n",
       "      <td>0.729032</td>\n",
       "      <td>0.728938</td>\n",
       "      <td>0.729167</td>\n",
       "      <td>0.728931</td>\n",
       "      <td>0.728981</td>\n",
       "    </tr>\n",
       "    <tr>\n",
       "      <td>10</td>\n",
       "      <td>No log</td>\n",
       "      <td>1.794501</td>\n",
       "      <td>0.703226</td>\n",
       "      <td>0.711423</td>\n",
       "      <td>0.699583</td>\n",
       "      <td>0.697676</td>\n",
       "      <td>0.700451</td>\n",
       "    </tr>\n",
       "    <tr>\n",
       "      <td>11</td>\n",
       "      <td>No log</td>\n",
       "      <td>1.825062</td>\n",
       "      <td>0.722581</td>\n",
       "      <td>0.733292</td>\n",
       "      <td>0.718750</td>\n",
       "      <td>0.716877</td>\n",
       "      <td>0.719729</td>\n",
       "    </tr>\n",
       "    <tr>\n",
       "      <td>12</td>\n",
       "      <td>No log</td>\n",
       "      <td>2.203258</td>\n",
       "      <td>0.729032</td>\n",
       "      <td>0.757990</td>\n",
       "      <td>0.723333</td>\n",
       "      <td>0.717742</td>\n",
       "      <td>0.723387</td>\n",
       "    </tr>\n",
       "    <tr>\n",
       "      <td>13</td>\n",
       "      <td>0.270900</td>\n",
       "      <td>2.093972</td>\n",
       "      <td>0.664516</td>\n",
       "      <td>0.691414</td>\n",
       "      <td>0.657917</td>\n",
       "      <td>0.646491</td>\n",
       "      <td>0.655504</td>\n",
       "    </tr>\n",
       "  </tbody>\n",
       "</table><p>"
      ],
      "text/plain": [
       "<IPython.core.display.HTML object>"
      ]
     },
     "metadata": {},
     "output_type": "display_data"
    },
    {
     "data": {
      "text/plain": [
       "TrainOutput(global_step=507, training_loss=0.2681504606730369, metrics={'train_runtime': 140.1658, 'train_samples_per_second': 176.363, 'train_steps_per_second': 5.565, 'total_flos': 1139498989561296.0, 'train_loss': 0.2681504606730369, 'epoch': 13.0})"
      ]
     },
     "execution_count": 255,
     "metadata": {},
     "output_type": "execute_result"
    }
   ],
   "source": [
    "SG1_XLM_RobertaTrainer.train()"
   ]
  },
  {
   "cell_type": "code",
   "execution_count": 256,
   "id": "077c1c48-cfa6-4f7d-b408-06ec209f9175",
   "metadata": {
    "tags": []
   },
   "outputs": [
    {
     "data": {
      "text/html": [],
      "text/plain": [
       "<IPython.core.display.HTML object>"
      ]
     },
     "metadata": {},
     "output_type": "display_data"
    },
    {
     "name": "stdout",
     "output_type": "stream",
     "text": [
      "SG1 XLM_Roberta test accuracy: 0.7483870967741936 , test f1: 0.7482194177183557\n"
     ]
    }
   ],
   "source": [
    "SG1_XLM_RobertaTrainer_Output = SG1_XLM_RobertaTrainer.predict(SG1_XLM_Roberta_tokenized_dataset['test'])\n",
    "print(f\"SG1 XLM_Roberta test accuracy: {SG1_XLM_RobertaTrainer_Output.metrics['test_eval_accuracy']} , test f1: {SG1_XLM_RobertaTrainer_Output.metrics['test_eval_f1']}\")\n"
   ]
  },
  {
   "cell_type": "code",
   "execution_count": 259,
   "id": "31b4e9ca-0992-4543-8fc7-bc65b99a9d8d",
   "metadata": {
    "tags": []
   },
   "outputs": [
    {
     "data": {
      "text/plain": [
       "('./Saved-Models/SG1/XLM_RobertaBinaryclass/748\\\\tokenizer_config.json',\n",
       " './Saved-Models/SG1/XLM_RobertaBinaryclass/748\\\\special_tokens_map.json',\n",
       " './Saved-Models/SG1/XLM_RobertaBinaryclass/748\\\\tokenizer.json')"
      ]
     },
     "execution_count": 259,
     "metadata": {},
     "output_type": "execute_result"
    }
   ],
   "source": [
    "# Save the Best Model\n",
    "path = './Saved-Models/SG1/XLM_RobertaBinaryclass/x'\n",
    "SG1_XLM_RobertaModel.save_pretrained(path)  # Save model and tokenizer for later use\n",
    "XLM_Roberta_tokenizer.save_pretrained(path)\n"
   ]
  },
  {
   "cell_type": "code",
   "execution_count": 271,
   "id": "61111597-d112-4d02-aab1-b3bb98b43e53",
   "metadata": {
    "tags": []
   },
   "outputs": [
    {
     "name": "stderr",
     "output_type": "stream",
     "text": [
      "Some weights of XLMRobertaForSequenceClassification were not initialized from the model checkpoint at FacebookAI/xlm-roberta-base and are newly initialized: ['classifier.dense.bias', 'classifier.dense.weight', 'classifier.out_proj.bias', 'classifier.out_proj.weight']\n",
      "You should probably TRAIN this model on a down-stream task to be able to use it for predictions and inference.\n"
     ]
    }
   ],
   "source": [
    "# Initialize the model and trainer\n",
    "SG2_XLM_RobertaModel = XLMRobertaForSequenceClassification.from_pretrained(\"FacebookAI/xlm-roberta-base\", num_labels=3)\n",
    "\n",
    "SG2_XLM_RobertaTrainer = Trainer(\n",
    "    model=SG2_XLM_RobertaModel,\n",
    "    args=get_training_arguments('XLM-RoBERTa', 'binary'),\n",
    "    train_dataset=SG2_XLM_Roberta_tokenized_dataset['train'],\n",
    "    eval_dataset=SG2_XLM_Roberta_tokenized_dataset['val'],\n",
    "    tokenizer=XLM_Roberta_tokenizer,\n",
    "    compute_metrics=compute_metrics\n",
    ")\n",
    "\n",
    "# Adding early stopping callback\n",
    "SG2_XLM_RobertaTrainer = add_early_stopping(SG2_XLM_RobertaTrainer, patience=5, threshold=0.01)\n"
   ]
  },
  {
   "cell_type": "code",
   "execution_count": 273,
   "id": "d91c8030-62e9-4dfb-93eb-29abf272a178",
   "metadata": {
    "tags": []
   },
   "outputs": [
    {
     "data": {
      "text/html": [
       "\n",
       "    <div>\n",
       "      \n",
       "      <progress value='736' max='1840' style='width:300px; height:20px; vertical-align: middle;'></progress>\n",
       "      [ 736/1840 07:38 < 11:29, 1.60 it/s, Epoch 8/20]\n",
       "    </div>\n",
       "    <table border=\"1\" class=\"dataframe\">\n",
       "  <thead>\n",
       " <tr style=\"text-align: left;\">\n",
       "      <th>Epoch</th>\n",
       "      <th>Training Loss</th>\n",
       "      <th>Validation Loss</th>\n",
       "      <th>Accuracy</th>\n",
       "      <th>Precision</th>\n",
       "      <th>Recall</th>\n",
       "      <th>F1</th>\n",
       "      <th>Cust Performance</th>\n",
       "    </tr>\n",
       "  </thead>\n",
       "  <tbody>\n",
       "    <tr>\n",
       "      <td>1</td>\n",
       "      <td>No log</td>\n",
       "      <td>0.515890</td>\n",
       "      <td>0.769022</td>\n",
       "      <td>0.795848</td>\n",
       "      <td>0.766523</td>\n",
       "      <td>0.762496</td>\n",
       "      <td>0.765759</td>\n",
       "    </tr>\n",
       "    <tr>\n",
       "      <td>2</td>\n",
       "      <td>No log</td>\n",
       "      <td>0.561330</td>\n",
       "      <td>0.760870</td>\n",
       "      <td>0.772587</td>\n",
       "      <td>0.759122</td>\n",
       "      <td>0.757401</td>\n",
       "      <td>0.759135</td>\n",
       "    </tr>\n",
       "    <tr>\n",
       "      <td>3</td>\n",
       "      <td>No log</td>\n",
       "      <td>0.524864</td>\n",
       "      <td>0.777174</td>\n",
       "      <td>0.787896</td>\n",
       "      <td>0.778710</td>\n",
       "      <td>0.775683</td>\n",
       "      <td>0.776429</td>\n",
       "    </tr>\n",
       "    <tr>\n",
       "      <td>4</td>\n",
       "      <td>No log</td>\n",
       "      <td>0.730843</td>\n",
       "      <td>0.758152</td>\n",
       "      <td>0.771412</td>\n",
       "      <td>0.759905</td>\n",
       "      <td>0.755945</td>\n",
       "      <td>0.757048</td>\n",
       "    </tr>\n",
       "    <tr>\n",
       "      <td>5</td>\n",
       "      <td>No log</td>\n",
       "      <td>0.795571</td>\n",
       "      <td>0.752717</td>\n",
       "      <td>0.758253</td>\n",
       "      <td>0.751455</td>\n",
       "      <td>0.750713</td>\n",
       "      <td>0.751715</td>\n",
       "    </tr>\n",
       "    <tr>\n",
       "      <td>6</td>\n",
       "      <td>0.416900</td>\n",
       "      <td>0.901625</td>\n",
       "      <td>0.766304</td>\n",
       "      <td>0.770025</td>\n",
       "      <td>0.767217</td>\n",
       "      <td>0.765862</td>\n",
       "      <td>0.766083</td>\n",
       "    </tr>\n",
       "    <tr>\n",
       "      <td>7</td>\n",
       "      <td>0.416900</td>\n",
       "      <td>0.864333</td>\n",
       "      <td>0.774457</td>\n",
       "      <td>0.776163</td>\n",
       "      <td>0.775061</td>\n",
       "      <td>0.774322</td>\n",
       "      <td>0.774389</td>\n",
       "    </tr>\n",
       "    <tr>\n",
       "      <td>8</td>\n",
       "      <td>0.416900</td>\n",
       "      <td>1.031209</td>\n",
       "      <td>0.777174</td>\n",
       "      <td>0.778657</td>\n",
       "      <td>0.777735</td>\n",
       "      <td>0.777069</td>\n",
       "      <td>0.777121</td>\n",
       "    </tr>\n",
       "  </tbody>\n",
       "</table><p>"
      ],
      "text/plain": [
       "<IPython.core.display.HTML object>"
      ]
     },
     "metadata": {},
     "output_type": "display_data"
    },
    {
     "data": {
      "text/plain": [
       "TrainOutput(global_step=736, training_loss=0.3310071851896203, metrics={'train_runtime': 462.0347, 'train_samples_per_second': 127.133, 'train_steps_per_second': 3.982, 'total_flos': 1666272607588512.0, 'train_loss': 0.3310071851896203, 'epoch': 8.0})"
      ]
     },
     "execution_count": 273,
     "metadata": {},
     "output_type": "execute_result"
    }
   ],
   "source": [
    "SG2_XLM_RobertaTrainer.train()"
   ]
  },
  {
   "cell_type": "code",
   "execution_count": 280,
   "id": "225184cc-bbeb-47b1-af4d-21443fda87f0",
   "metadata": {
    "tags": []
   },
   "outputs": [
    {
     "data": {
      "text/html": [],
      "text/plain": [
       "<IPython.core.display.HTML object>"
      ]
     },
     "metadata": {},
     "output_type": "display_data"
    },
    {
     "name": "stdout",
     "output_type": "stream",
     "text": [
      "SG2 XLM_Roberta test accuracy: 0.779891304347826 , test f1: 0.7796944635373938\n"
     ]
    }
   ],
   "source": [
    "SG2_XLM_RobertaTrainer_Output = SG2_XLM_RobertaTrainer.predict(SG2_XLM_Roberta_tokenized_dataset['test'])\n",
    "print(f\"SG2 XLM_Roberta test accuracy: {SG2_XLM_RobertaTrainer_Output.metrics['test_eval_accuracy']} , test f1: {SG2_XLM_RobertaTrainer_Output.metrics['test_eval_f1']}\")"
   ]
  },
  {
   "cell_type": "code",
   "execution_count": 269,
   "id": "8ff98942-42f0-467b-abae-a8dbaa3b6ef6",
   "metadata": {
    "tags": []
   },
   "outputs": [
    {
     "data": {
      "text/plain": [
       "('./Saved-Models/SG2/XLM_RobertaBinaryclass/785\\\\tokenizer_config.json',\n",
       " './Saved-Models/SG2/XLM_RobertaBinaryclass/785\\\\special_tokens_map.json',\n",
       " './Saved-Models/SG2/XLM_RobertaBinaryclass/785\\\\tokenizer.json')"
      ]
     },
     "execution_count": 269,
     "metadata": {},
     "output_type": "execute_result"
    }
   ],
   "source": [
    "# Save the Best Model\n",
    "path = './Saved-Models/SG2/XLM_RobertaBinaryclass/x'\n",
    "SG1_XLM_RobertaModel.save_pretrained(path)  # Save model and tokenizer for later use\n",
    "XLM_Roberta_tokenizer.save_pretrained(path)"
   ]
  },
  {
   "cell_type": "markdown",
   "id": "bc127d9b-8a38-4768-ad42-04b562a1a65f",
   "metadata": {
    "tags": []
   },
   "source": [
    "## 7. Ensembel Evaluation for Multiclass Classification"
   ]
  },
  {
   "cell_type": "code",
   "execution_count": 82,
   "id": "f502a94f-f0d9-429e-be1d-7923939d7423",
   "metadata": {
    "tags": []
   },
   "outputs": [
    {
     "name": "stdout",
     "output_type": "stream",
     "text": [
      "RoBERTa test accuracy: 0.8649289099526066\n",
      "DistilBERT test accuracy: 0.8459715639810427\n",
      "XLM-RoBERTa test accuracy: 0.8507109004739336\n",
      "Voting Ensemble Accuracy: 0.8625592417061612\n",
      "Predection Confidence Ensemble Accuracy: 0.8625592417061612\n"
     ]
    }
   ],
   "source": [
    "print(f\"RoBERTa test accuracy: {RobertaOutput.metrics['test_eval_accuracy']}\")\n",
    "print(f\"DistilBERT test accuracy: {DistilbertOutput.metrics['test_eval_accuracy']}\")\n",
    "print(f\"XLM-RoBERTa test accuracy: {XLMRoBERTaOutput.metrics['test_eval_accuracy']}\")\n",
    "outputs = [RobertaOutput,DistilbertOutput,XLMRoBERTaOutput]\n",
    "final_Labels, acc, f1 = ensemble_score(outputs,Roberta_tokenized_datasets['test']['labels'] )\n",
    "print(f\"Voting Ensemble Accuracy: {acc}\")\n",
    "final_Labels, acc, f1 = ensemble_score_total_sum(outputs,XLM_RoBERTa_tokenized_datasets['test']['labels'] )\n",
    "print(f\"Predection Confidence Ensemble Accuracy: {acc}\")"
   ]
  },
  {
   "cell_type": "code",
   "execution_count": 143,
   "id": "ee53af31-a60d-4a18-9685-ec0bac247654",
   "metadata": {
    "tags": []
   },
   "outputs": [],
   "source": [
    "import matplotlib.pyplot as plt\n",
    "import seaborn as sns\n",
    "from sklearn.metrics import confusion_matrix\n",
    "import numpy as np\n",
    "\n",
    "def plot_confusion_matrix(true_labels, predictions, title='Confusion Matrix', class_names=None):\n",
    "    # Ensure predictions are in the correct format\n",
    "    if isinstance(predictions, list):\n",
    "        predictions = np.array(predictions)\n",
    "    if predictions.ndim == 1:\n",
    "        # predictions should be a 2D array; make it so if only 1D\n",
    "        predictions = np.expand_dims(predictions, axis=0)\n",
    "\n",
    "    # Ensure that predictions are properly shaped for np.argmax if they are probabilities\n",
    "    if predictions.shape[1] != len(np.unique(true_labels)):\n",
    "        # This assumes that the number of columns in predictions should match the number of unique labels\n",
    "        raise ValueError(\"The shape of predictions does not match the number of unique labels in true_labels\")\n",
    "\n",
    "    predicted_labels = np.argmax(predictions, axis=1)\n",
    "    cm = confusion_matrix(true_labels, predicted_labels)\n",
    "    fig, ax = plt.subplots(figsize=(8, 6))\n",
    "    sns.heatmap(cm, annot=True, fmt='d', ax=ax, cmap='Blues', cbar=False)\n",
    "    ax.set_xlabel('Predicted Labels')\n",
    "    ax.set_ylabel('True Labels')\n",
    "    ax.set_title(title)\n",
    "    if class_names:\n",
    "        ax.xaxis.set_ticklabels(class_names)\n",
    "        ax.yaxis.set_ticklabels(class_names)\n",
    "    plt.show()"
   ]
  },
  {
   "cell_type": "code",
   "execution_count": 121,
   "id": "02e3be9c-b4e0-4abf-ba63-96f4621549df",
   "metadata": {
    "tags": []
   },
   "outputs": [
    {
     "name": "stdout",
     "output_type": "stream",
     "text": [
      "+-----------------------------------------+------------+------------+\n",
      "| Model                                   |   Accuracy |   F1-Score |\n",
      "+=========================================+============+============+\n",
      "| RoBERTa                                 |   0.864929 |   0.847069 |\n",
      "+-----------------------------------------+------------+------------+\n",
      "| DistilBERT                              |   0.845972 |   0.823081 |\n",
      "+-----------------------------------------+------------+------------+\n",
      "| XLM-RoBERTa                             |   0.850711 |   0.831891 |\n",
      "+-----------------------------------------+------------+------------+\n",
      "| Voting Ensemble                         |   0.862559 |   0.846352 |\n",
      "+-----------------------------------------+------------+------------+\n",
      "| Prediction Confidence Ensemble          |   0.862559 |   0.845772 |\n",
      "+-----------------------------------------+------------+------------+\n",
      "| Weighted Prediction Confidence Ensemble |   0.864929 |   0.847314 |\n",
      "+-----------------------------------------+------------+------------+\n"
     ]
    }
   ],
   "source": [
    "# Define headers and rows for the table\n",
    "headers = [\"Model\", \"Accuracy\", \"F1-Score\"]\n",
    "rows = [\n",
    "    [\"RoBERTa\", RobertaOutput.metrics['test_eval_accuracy'], RobertaOutput.metrics['test_eval_f1']],\n",
    "    [\"DistilBERT\", DistilbertOutput.metrics['test_eval_accuracy'], DistilbertOutput.metrics['test_eval_f1']],\n",
    "    [\"XLM-RoBERTa\", XLMRoBERTaOutput.metrics['test_eval_accuracy'], XLMRoBERTaOutput.metrics['test_eval_f1']]\n",
    "]\n",
    "\n",
    "# Calculate ensemble scores and append results to the rows list\n",
    "outputs = [RobertaOutput, DistilbertOutput, XLMRoBERTaOutput]\n",
    "ensemble_score_labels_, acc, f1 = ensemble_score(outputs, Roberta_tokenized_datasets['test']['labels'])\n",
    "rows.append([\"Voting Ensemble\", acc, f1])\n",
    "\n",
    "ensemble_score_total_sum_labels, acc, f1 = ensemble_score_total_sum(outputs, XLM_RoBERTa_tokenized_datasets['test']['labels'])\n",
    "rows.append([\"Prediction Confidence Ensemble\", acc, f1])\n",
    "\n",
    "weighted_ensemble_score_total_sum_labels, acc, f1 = ensemble_score_total_sum(outputs, XLM_RoBERTa_tokenized_datasets['test']['labels'], [0.6, 0.2, 0.2])\n",
    "rows.append([\"Weighted Prediction Confidence Ensemble\", acc, f1])\n",
    "\n",
    "# Print the table using tabulate\n",
    "print(tabulate(rows, headers=headers, tablefmt=\"grid\"))"
   ]
  },
  {
   "cell_type": "code",
   "execution_count": 146,
   "id": "9f94c0d6-969e-4e26-ba1d-1705ec6f3583",
   "metadata": {
    "tags": []
   },
   "outputs": [
    {
     "data": {
      "image/png": "[encoded data removed]",
      "text/plain": [
       "<Figure size 800x600 with 1 Axes>"
      ]
     },
     "metadata": {},
     "output_type": "display_data"
    },
    {
     "data": {
      "image/png": "[encoded data removed]",
      "text/plain": [
       "<Figure size 800x600 with 1 Axes>"
      ]
     },
     "metadata": {},
     "output_type": "display_data"
    },
    {
     "data": {
      "image/png": "[encoded data removed]",
      "text/plain": [
       "<Figure size 800x600 with 1 Axes>"
      ]
     },
     "metadata": {},
     "output_type": "display_data"
    }
   ],
   "source": [
    "# Example labels and predictions (you should replace these with actual predictions from your Trainer output)\n",
    "true_labels = Roberta_tokenized_datasets['test']['labels']\n",
    "\n",
    "\n",
    "# Calculate ensemble scores and append results to the rows list\n",
    "outputs = [RobertaOutput, DistilbertOutput, XLMRoBERTaOutput]\n",
    "ensemble_score_labels_, acc, f1 = ensemble_score(outputs, Roberta_tokenized_datasets['test']['labels'])\n",
    "ensemble_score_total_sum_labels, acc, f1 = ensemble_score_total_sum(outputs, XLM_RoBERTa_tokenized_datasets['test']['labels'])\n",
    "weighted_ensemble_score_total_sum_labels, acc, f1 = ensemble_score_total_sum(outputs, XLM_RoBERTa_tokenized_datasets['test']['labels'], [0.6, 0.2, 0.2])\n",
    "\n",
    "# Plotting for each model\n",
    "class_names = ['Non-Biased', 'Left-Biased', 'Right-Biased']\n",
    "plot_confusion_matrix(true_labels, RobertaOutput.predictions, title='RoBERTa Confusion Matrix', class_names=class_names)\n",
    "plot_confusion_matrix(true_labels, DistilbertOutput.predictions, title='DistilBERT Confusion Matrix', class_names=class_names)\n",
    "plot_confusion_matrix(true_labels, XLMRoBERTaOutput.predictions, title='XLM-RoBERTa Confusion Matrix', class_names=class_names)"
   ]
  },
  {
   "cell_type": "markdown",
   "id": "c259acb9-7406-43ac-a425-09930d462246",
   "metadata": {
    "tags": []
   },
   "source": [
    "### Conclusion\n",
    "\n",
    "Throughout this project, we evaluated the performance of three different transformer-based models: RoBERTa, DistilBERT, and XLM-RoBERTa, on a multiclass classification task. Below are the observed accuracies for each model when tested on our dataset:\n",
    "\n",
    "| Model           | Test Accuracy | F1-Score |\n",
    "|-----------------|---------------|----------|\n",
    "| **RoBERTa**     | **86.493%**       | **84.707%**  |\n",
    "| **DistilBERT**  | 84.597%       | 82.308%  |\n",
    "| **XLM-RoBERTa** | 85.071%       | 83.189%  |\n",
    "\n",
    "\n",
    "To enhance the performance and leverage the strengths of each model, we implemented ensemble techniques. The accuracies achieved by these ensemble methods are:\n",
    "\n",
    "| Ensemble Type                  | Test Accuracy | F1-Score |\n",
    "|--------------------------------|---------------|----------|\n",
    "| **Voting Ensemble**            | 86.256%       | 84.635%  |\n",
    "| **Prediction Confidence Ensemble** | 86.256%   | 84.577%  |\n",
    "|**Weighted Prediction Confidence Ensemble** |**86.493%**|**84.731%**|\n",
    "\n",
    "The first two ensemble approaches (Voting and Prediction Confidence) effectively boosts the performance over the weakest model (DistilBERT), indicating that combining model predictions can help mitigate individual model weaknesses. However, it did not surpass the strongest model (RoBERTa). This can occur if the models make similar types of errors or if the strongest model already performs near an upper limit for the given data and model configurations. The overall of ensble is less than the best model as the lower performance of the other two models negatively impacted the overall performance.\n",
    "\n",
    "The Weighted Prediction Confidence Ensemble, matched the accuracy  of the best individual model (RoBERTa) but improved on F1-score by around 0.03% which shows a slight performance improvement. This indicates that while ensembles can stabilize prediction outcomes, the improvements might be marginal depending on the variance and accuracy of the individual models involved.\n",
    "\n",
    "This analysis suggests that for tasks where model interpretability is not critical, employing an ensemble of models could be beneficial, especially in scenarios where different models capture various aspects of the data differently. However, the overhead of maintaining multiple models versus the incremental gain in performance should also be considered.\n",
    "\n",
    "Overall, the project demonstrates the effectiveness of transformer models in handling complex text classification tasks and the potential of ensembles to enhance predictive performance.\n"
   ]
  },
  {
   "cell_type": "markdown",
   "id": "082d3282-80e8-4d2f-b381-38bcd2d3c835",
   "metadata": {
    "tags": []
   },
   "source": [
    "## 8. Ensembel Evaluation for Binary Classification"
   ]
  },
  {
   "cell_type": "code",
   "execution_count": 324,
   "id": "27f246e4-0c99-423a-aa70-7c1cac5a9ab7",
   "metadata": {
    "tags": []
   },
   "outputs": [
    {
     "name": "stdout",
     "output_type": "stream",
     "text": [
      "Model                                      SG1 Dataset F1-Score    SG2 Dataset F1-Score\n",
      "---------------------------------------  ----------------------  ----------------------\n",
      "RoBERTa                                                0.819167                0.806893\n",
      "DistilBERT                                             0.774156                0.785058\n",
      "XLM-RoBERTa                                            0.748219                0.779694\n",
      "Voting Ensemble                                        0.767732                0.80703\n",
      "Prediction Confidence Ensemble                         0.793333                0.796182\n",
      "Weighted Prediction Confidence Ensemble                0.812779                0.804325\n"
     ]
    }
   ],
   "source": [
    "# Define headers and rows for the table\n",
    "headers = [\"Model\", \"SG1 Dataset F1-Score\", \"SG2 Dataset F1-Score\"]\n",
    "rows = [\n",
    "    [\"RoBERTa\", SG1_RobertaTrainer_Output.metrics['test_eval_f1'], SG2_RobertaTrainer_Output.metrics['test_eval_f1']],\n",
    "    [\"DistilBERT\", SG1_DistilbertTrainer_Output.metrics['test_eval_f1'], SG2_DistilbertTrainer_Output.metrics['test_eval_f1']],\n",
    "    [\"XLM-RoBERTa\", SG1_XLM_RobertaTrainer_Output.metrics['test_eval_f1'], SG2_XLM_RobertaTrainer_Output.metrics['test_eval_f1']]\n",
    "]\n",
    "\n",
    "# Calculate ensemble scores and append results to the rows list\n",
    "SG1_outputs = [SG1_RobertaTrainer_Output, SG1_DistilbertTrainer_Output, SG1_XLM_RobertaTrainer_Output]\n",
    "SG2_outputs = [SG2_RobertaTrainer_Output, SG2_DistilbertTrainer_Output, SG2_XLM_RobertaTrainer_Output]\n",
    "ensemble_score_labels_, acc, SG1_f1 = ensemble_score(SG1_outputs, SG1_XLM_Roberta_tokenized_dataset['test']['labels'])\n",
    "ensemble_score_labels_, acc, SG2_f1 = ensemble_score(SG2_outputs, SG2_XLM_Roberta_tokenized_dataset['test']['labels'])\n",
    "rows.append([\"Voting Ensemble\", SG1_f1, SG2_f1])\n",
    "\n",
    "ensemble_score_labels_, acc, SG1_f1 = ensemble_score_total_sum(SG1_outputs, SG1_XLM_Roberta_tokenized_dataset['test']['labels'])\n",
    "ensemble_score_labels_, acc, SG2_f1 = ensemble_score_total_sum(SG2_outputs, SG2_XLM_Roberta_tokenized_dataset['test']['labels'])\n",
    "rows.append([\"Prediction Confidence Ensemble\", SG1_f1, SG2_f1])\n",
    "\n",
    "weighted_ensemble_score_total_sum_labels, acc,SG1_f1 = ensemble_score_total_sum(SG1_outputs, SG1_XLM_Roberta_tokenized_dataset['test']['labels'], [0.6, 0.2, 0.2])\n",
    "weighted_ensemble_score_total_sum_labels, acc,SG2_f1 = ensemble_score_total_sum(SG2_outputs, SG2_XLM_Roberta_tokenized_dataset['test']['labels'], [0.6, 0.2, 0.2])\n",
    "rows.append([\"Weighted Prediction Confidence Ensemble\", SG1_f1, SG2_f1])\n",
    "\n",
    "# Print the table using tabulate\n",
    "print(tabulate(rows, headers=headers, tablefmt=\"simple\"))\n"
   ]
  },
  {
   "cell_type": "code",
   "execution_count": null,
   "id": "85a91536-d421-4cd7-9a86-9c4530d98b7e",
   "metadata": {},
   "outputs": [],
   "source": []
  }
 ],
 "metadata": {
  "kernelspec": {
   "display_name": "compsci714win",
   "language": "python",
   "name": "compsci714win"
  },
  "language_info": {
   "codemirror_mode": {
    "name": "ipython",
    "version": 3
   },
   "file_extension": ".py",
   "mimetype": "text/x-python",
   "name": "python",
   "nbconvert_exporter": "python",
   "pygments_lexer": "ipython3",
   "version": "3.10.14"
  }
 },
 "nbformat": 4,
 "nbformat_minor": 5
}
